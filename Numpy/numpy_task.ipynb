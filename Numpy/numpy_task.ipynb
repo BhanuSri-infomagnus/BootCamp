{
 "cells": [
  {
   "cell_type": "markdown",
   "id": "9c0dab55",
   "metadata": {},
   "source": [
    "NumPy Case Study"
   ]
  },
  {
   "cell_type": "markdown",
   "id": "95e66661",
   "metadata": {},
   "source": [
    "1. Import NumPy\n",
    "Import the NumPy library, which is essential for numerical computations in Python."
   ]
  },
  {
   "cell_type": "code",
   "execution_count": 1,
   "id": "d52ae97f",
   "metadata": {},
   "outputs": [],
   "source": [
    "# Import the NumPy library for numerical operations\n",
    "import numpy as np"
   ]
  },
  {
   "cell_type": "markdown",
   "id": "bb1d7252",
   "metadata": {},
   "source": [
    "2. Array Creation\n",
    "- Create 1D, 2D, and 3D arrays\n",
    "- Use `arange`, `linspace`, and `random` functions"
   ]
  },
  {
   "cell_type": "code",
   "execution_count": 2,
   "id": "a7f108c6",
   "metadata": {},
   "outputs": [
    {
     "name": "stdout",
     "output_type": "stream",
     "text": [
      "1D Array: [1 2 3 4 5]\n",
      "2D Array:\n",
      " [[1 2 3]\n",
      " [4 5 6]]\n",
      "3D Array:\n",
      " [[[1 2]\n",
      "  [3 4]]\n",
      "\n",
      " [[5 6]\n",
      "  [7 8]]]\n",
      "arange: [0 2 4 6 8]\n",
      "linspace: [ 0.    3.75  7.5  11.25 15.  ]\n",
      "Random Array:\n",
      " [[0.54824363 0.56481618 0.32285927]]\n",
      "Random Array:\n",
      " [[0.54824363 0.56481618 0.32285927]]\n"
     ]
    }
   ],
   "source": [
    "# Create a 1D array\n",
    "arr1 = np.array([1, 2, 3, 4, 5])\n",
    "print(\"1D Array:\", arr1)\n",
    "\n",
    "# Create a 2D array\n",
    "arr2 = np.array([[1, 2, 3], [4, 5, 6]])\n",
    "print(\"2D Array:\\n\", arr2)\n",
    "\n",
    "# Create a 3D array\n",
    "arr3 = np.array([[[1,2],[3,4]], [[5,6],[7,8]]])\n",
    "print(\"3D Array:\\n\", arr3)\n",
    "\n",
    "# Use arange to create a range of values\n",
    "arange_arr = np.arange(0, 10, 2)\n",
    "print(\"arange:\", arange_arr)\n",
    "\n",
    "# Use linspace to create evenly spaced values\n",
    "linspace_arr = np.linspace(0,15, 5)\n",
    "print(\"linspace:\", linspace_arr)\n",
    "\n",
    "# Generate random numbers with np.random.rand\n",
    "rand_arr = np.random.rand(1,3)\n",
    "print(\"Random Array:\\n\", rand_arr)"
   ]
  },
  {
   "cell_type": "markdown",
   "id": "f7e748bb",
   "metadata": {},
   "source": [
    "3. Array Attributes and Reshaping\n",
    "- Shape, size, dtype\n",
    "- Reshape, flatten, ravel"
   ]
  },
  {
   "cell_type": "code",
   "execution_count": 3,
   "id": "e8e6b656",
   "metadata": {},
   "outputs": [
    {
     "name": "stdout",
     "output_type": "stream",
     "text": [
      "Shape: (2, 3)\n",
      "Size: 6\n",
      "Data type: int64\n",
      "Reshaped :\n",
      " [[1 2]\n",
      " [3 4]\n",
      " [5 6]]\n",
      "Flattened 2D to 1D: [1 2 3 4 5 6]\n",
      "Raveled 2D to 1D: [1 2 3 4 5 6]\n"
     ]
    }
   ],
   "source": [
    "# Get the shape, size, and data type of the array\n",
    "print(\"Shape:\", arr2.shape)\n",
    "print(\"Size:\", arr2.size)\n",
    "print(\"Data type:\", arr2.dtype)\n",
    "\n",
    "# Reshape the array to a new shape\n",
    "reshaped = arr2.reshape((3,2))\n",
    "print(\"Reshaped :\\n\", reshaped)\n",
    "\n",
    "# Flatten the array to 1D (returns a copy)\n",
    "flattened = arr2.flatten()\n",
    "print(\"Flattened 2D to 1D:\", flattened)\n",
    "\n",
    "# Ravel the array to 1D (returns a view if possible)\n",
    "raveled = arr2.ravel()\n",
    "print(\"Raveled 2D to 1D:\", raveled)"
   ]
  },
  {
   "cell_type": "markdown",
   "id": "1cfeb81a",
   "metadata": {},
   "source": [
    "4. Indexing and Slicing\n",
    "- Basic and advanced indexing\n",
    "- Boolean indexing"
   ]
  },
  {
   "cell_type": "code",
   "execution_count": 4,
   "id": "e7024a3d",
   "metadata": {},
   "outputs": [
    {
     "name": "stdout",
     "output_type": "stream",
     "text": [
      "Element at (1,2): 6\n",
      "First row: [1 2 3]\n",
      "First column: [1 4]\n",
      "Elements > 2: [3 4 5 6]\n"
     ]
    }
   ],
   "source": [
    "# Access elements and slices in arrays\n",
    "print(\"Element at (1,2):\", arr2[1,2])\n",
    "print(\"First row:\", arr2[0])\n",
    "print(\"First column:\", arr2[:,0])\n",
    "\n",
    "# Boolean indexing to filter elements\n",
    "bool_idx = arr2 > 2\n",
    "print(\"Elements > 2:\", arr2[bool_idx])"
   ]
  },
  {
   "cell_type": "markdown",
   "id": "92a8ccb4",
   "metadata": {},
   "source": [
    "5. Mathematical Operations\n",
    "- Element-wise operations\n",
    "- Aggregate functions\n",
    "- Broadcasting"
   ]
  },
  {
   "cell_type": "code",
   "execution_count": 5,
   "id": "0a9e0c59",
   "metadata": {},
   "outputs": [
    {
     "name": "stdout",
     "output_type": "stream",
     "text": [
      "Addition: [5 7 9]\n",
      "Multiplication: [ 4 10 18]\n",
      "Mean: 2.0\n",
      "Sum: 6\n",
      "Broadcasting: [11 12 13]\n"
     ]
    }
   ],
   "source": [
    "# Perform element-wise addition and multiplication\n",
    "arr_a = np.array([1,2,3])\n",
    "arr_b = np.array([4,5,6])\n",
    "print(\"Addition:\", arr_a + arr_b)\n",
    "print(\"Multiplication:\", arr_a * arr_b)\n",
    "# Aggregate functions: mean and sum\n",
    "print(\"Mean:\", arr_a.mean())\n",
    "print(\"Sum:\", arr_a.sum())\n",
    "# Broadcasting: add a scalar to all elements\n",
    "print(\"Broadcasting:\", arr_a + 10)"
   ]
  },
  {
   "cell_type": "markdown",
   "id": "d9633a5c",
   "metadata": {},
   "source": [
    "6. Universal Functions (ufuncs)\n",
    "- `np.sqrt`, `np.exp`, `np.log`, `np.sin`, etc."
   ]
  },
  {
   "cell_type": "code",
   "execution_count": 6,
   "id": "be151391",
   "metadata": {},
   "outputs": [
    {
     "name": "stdout",
     "output_type": "stream",
     "text": [
      "Square root: [1.         1.41421356 1.73205081]\n",
      "Exponential: [ 2.71828183  7.3890561  20.08553692]\n",
      "Logarithm: [0.         0.69314718 1.09861229]\n",
      "Sine: [0.84147098 0.90929743 0.14112001]\n"
     ]
    }
   ],
   "source": [
    "# Apply universal functions to arrays\n",
    "print(\"Square root:\", np.sqrt(arr_a))\n",
    "print(\"Exponential:\", np.exp(arr_a))\n",
    "print(\"Logarithm:\", np.log(arr_a))\n",
    "print(\"Sine:\", np.sin(arr_a))"
   ]
  },
  {
   "cell_type": "markdown",
   "id": "607204dd",
   "metadata": {},
   "source": [
    "7. Random Module\n",
    "- `rand`, `randn`, `randint`, `seed`"
   ]
  },
  {
   "cell_type": "code",
   "execution_count": 7,
   "id": "627999c1",
   "metadata": {},
   "outputs": [
    {
     "name": "stdout",
     "output_type": "stream",
     "text": [
      "Random float array: [0.37454012 0.95071431 0.73199394]\n",
      "Random normal array: [-1.11188012  0.31890218  0.27904129]\n",
      "Random integers: [7 2 5 4 1]\n"
     ]
    }
   ],
   "source": [
    "# Set the random seed for reproducibility\n",
    "np.random.seed(42)\n",
    "# Generate random numbers from different distributions\n",
    "print(\"Random float array:\", np.random.rand(3))\n",
    "print(\"Random normal array:\", np.random.randn(3))\n",
    "print(\"Random integers:\", np.random.randint(0, 10, 5))"
   ]
  },
  {
   "cell_type": "markdown",
   "id": "f0ff8be4",
   "metadata": {},
   "source": [
    "8. Advanced Array Manipulation\n",
    "- Stacking, splitting, repeating, tiling"
   ]
  },
  {
   "cell_type": "code",
   "execution_count": 8,
   "id": "55a155f0",
   "metadata": {},
   "outputs": [
    {
     "name": "stdout",
     "output_type": "stream",
     "text": [
      "Vertical Stack:\n",
      " [[1 2]\n",
      " [3 4]\n",
      " [5 6]]\n",
      "Horizontal Stack:\n",
      " [[1 2 5]\n",
      " [3 4 6]]\n",
      "Split array: [array([1, 2]), array([3, 4]), array([5])]\n",
      "Repeated: [1 1 2 2 3 3 4 4 5 5]\n",
      "Tiled: [1 2 3 4 5 1 2 3 4 5 1 2 3 4 5]\n"
     ]
    }
   ],
   "source": [
    "# Stack arrays vertically and horizontally\n",
    "a = np.array([[1,2],[3,4]])\n",
    "b = np.array([[5,6]])\n",
    "print(\"Vertical Stack:\\n\", np.vstack([a,b]))\n",
    "print(\"Horizontal Stack:\\n\", np.hstack([a,b.T]))\n",
    "\n",
    "# Split an array at specified indices\n",
    "split_arr = np.split(arr1, [2,4])\n",
    "print(\"Split array:\", split_arr)\n",
    "\n",
    "# Repeat elements of an array\n",
    "repeated = np.repeat(arr1, 2)\n",
    "print(\"Repeated:\", repeated)\n",
    "\n",
    "# Tile an array (repeat the whole array)\n",
    "tiled = np.tile(arr1, 3)\n",
    "print(\"Tiled:\", tiled)"
   ]
  },
  {
   "cell_type": "markdown",
   "id": "dcc5e249",
   "metadata": {},
   "source": [
    "9. Linear Algebra\n",
    "- Dot product, matrix multiplication, transpose, inverse"
   ]
  },
  {
   "cell_type": "code",
   "execution_count": 9,
   "id": "15043747",
   "metadata": {},
   "outputs": [
    {
     "name": "stdout",
     "output_type": "stream",
     "text": [
      "Dot product: [17 39]\n",
      "Matrix multiplication: [[ 7 10]\n",
      " [15 22]]\n",
      "Transpose:\n",
      " [[1 3]\n",
      " [2 4]]\n",
      "Inverse:\n",
      " [[-2.   1. ]\n",
      " [ 1.5 -0.5]]\n"
     ]
    }
   ],
   "source": [
    "# mat: 2x2 matrix, vec: 1D vector\n",
    "mat = np.array([[1,2],[3,4]])\n",
    "vec = np.array([5,6])\n",
    "# np.dot() computes the dot product of matrix and vector\n",
    "print(\"Dot product:\", np.dot(mat, vec))\n",
    "# np.matmul() performs matrix multiplication\n",
    "print(\"Matrix multiplication:\", np.matmul(mat, mat))\n",
    "# .T gives the transpose of the matrix\n",
    "print(\"Transpose:\\n\", mat.T)\n",
    "# np.linalg.inv() computes the inverse of the matrix\n",
    "print(\"Inverse:\\n\", np.linalg.inv(mat))"
   ]
  },
  {
   "cell_type": "markdown",
   "id": "38b5dff0",
   "metadata": {},
   "source": [
    "10. Masking and Conditional Logic\n",
    "- `np.where`, `np.select`, masking arrays"
   ]
  },
  {
   "cell_type": "code",
   "execution_count": 10,
   "id": "97be7fd1",
   "metadata": {},
   "outputs": [
    {
     "name": "stdout",
     "output_type": "stream",
     "text": [
      "Even numbers: [2 4]\n",
      "Labels: ['Low' 'Low' 'Low' 'High' 'High']\n"
     ]
    }
   ],
   "source": [
    "# Create a boolean mask and use np.where for conditional selection\n",
    "arr = np.array([1,2,3,4,5])\n",
    "mask = arr % 2 == 0\n",
    "print(\"Even numbers:\", arr[mask])\n",
    "\n",
    "labels = np.where(arr > 3, 'High', 'Low')\n",
    "print(\"Labels:\", labels)"
   ]
  },
  {
   "cell_type": "markdown",
   "id": "9df98d61",
   "metadata": {},
   "source": [
    "11. Advanced Functions\n",
    "- `np.apply_along_axis`, `np.vectorize`, `np.fromfunction`"
   ]
  },
  {
   "cell_type": "code",
   "execution_count": 11,
   "id": "ad5fbe6d",
   "metadata": {},
   "outputs": [
    {
     "name": "stdout",
     "output_type": "stream",
     "text": [
      "Apply along axis: 10\n",
      "Vectorized function: [ 1  2  5 10 17]\n",
      "Fromfunction array:\n",
      " [[0 1 2]\n",
      " [1 2 3]\n",
      " [2 3 4]]\n"
     ]
    }
   ],
   "source": [
    "# Define a custom function and apply it using vectorize and apply_along_axis\n",
    "def custom_func(x):\n",
    "    return x**2 + 1\n",
    "\n",
    "arr = np.arange(5)\n",
    "# Apply np.sum along axis 0 (trivial for 1D)\n",
    "print(\"Apply along axis:\", np.apply_along_axis(np.sum, 0, arr))\n",
    "# Vectorize the custom function\n",
    "vec_func = np.vectorize(custom_func)\n",
    "print(\"Vectorized function:\", vec_func(arr))\n",
    "\n",
    "# Create an array using a function of indices\n",
    "f = np.fromfunction(lambda i, j: i + j, (3, 3), dtype=int)\n",
    "print(\"Fromfunction array:\\n\", f)"
   ]
  },
  {
   "cell_type": "markdown",
   "id": "bea312cb",
   "metadata": {},
   "source": [
    "12. Saving and Loading Data\n",
    "- `np.save`, `np.load`, `np.savetxt`, `np.loadtxt`"
   ]
  },
  {
   "cell_type": "code",
   "execution_count": 12,
   "id": "70b2f076",
   "metadata": {},
   "outputs": [
    {
     "name": "stdout",
     "output_type": "stream",
     "text": [
      "Loaded array: [0 1 2 3 4 5 6 7 8 9]\n",
      "Loaded from txt: [0. 1. 2. 3. 4. 5. 6. 7. 8. 9.]\n"
     ]
    }
   ],
   "source": [
    "# Save and load arrays in binary and text formats\n",
    "arr = np.arange(10)\n",
    "np.save('my_array.npy', arr)\n",
    "loaded = np.load('my_array.npy')\n",
    "print(\"Loaded array:\", loaded)\n",
    "\n",
    "np.savetxt('my_array.txt', arr)\n",
    "loaded_txt = np.loadtxt('my_array.txt')\n",
    "print(\"Loaded from txt:\", loaded_txt)"
   ]
  },
  {
   "cell_type": "markdown",
   "id": "4d6f4aee",
   "metadata": {},
   "source": [
    "13. Broadcasting Rules and Examples\n",
    "- Demonstrate how broadcasting works with different shapes"
   ]
  },
  {
   "cell_type": "code",
   "execution_count": 13,
   "id": "d663307f",
   "metadata": {},
   "outputs": [
    {
     "name": "stdout",
     "output_type": "stream",
     "text": [
      "Broadcasted sum:\n",
      " [[11 21 31]\n",
      " [12 22 32]\n",
      " [13 23 33]]\n"
     ]
    }
   ],
   "source": [
    "# Demonstrate broadcasting with arrays of different shapes\n",
    "a = np.array([[1],[2],[3]])\n",
    "b = np.array([10,20,30])\n",
    "print(\"Broadcasted sum:\\n\", a + b)"
   ]
  },
  {
   "cell_type": "markdown",
   "id": "5d5c651e",
   "metadata": {},
   "source": [
    "14. Performance Comparison\n",
    "- Compare NumPy with Python lists for speed"
   ]
  },
  {
   "cell_type": "code",
   "execution_count": 14,
   "id": "0c7538c9",
   "metadata": {},
   "outputs": [
    {
     "name": "stdout",
     "output_type": "stream",
     "text": [
      "NumPy time: 0.002856731414794922\n",
      "List time: 0.07518386840820312\n",
      "List time: 0.07518386840820312\n"
     ]
    }
   ],
   "source": [
    "# Compare the speed of NumPy array operations with Python list comprehensions\n",
    "import time\n",
    "arr = np.arange(1_000_000)\n",
    "start = time.time()\n",
    "arr2 = arr * 2\n",
    "print(\"NumPy time:\", time.time() - start)\n",
    "\n",
    "lst = list(range(1_000_000))\n",
    "start = time.time()\n",
    "lst2 = [x*2 for x in lst]\n",
    "print(\"List time:\", time.time() - start)"
   ]
  }
 ],
 "metadata": {
  "kernelspec": {
   "display_name": ".venv",
   "language": "python",
   "name": "python3"
  },
  "language_info": {
   "codemirror_mode": {
    "name": "ipython",
    "version": 3
   },
   "file_extension": ".py",
   "mimetype": "text/x-python",
   "name": "python",
   "nbconvert_exporter": "python",
   "pygments_lexer": "ipython3",
   "version": "3.13.3"
  }
 },
 "nbformat": 4,
 "nbformat_minor": 5
}
