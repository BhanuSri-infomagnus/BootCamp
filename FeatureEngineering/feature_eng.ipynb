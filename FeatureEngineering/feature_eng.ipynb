{
 "cells": [
  {
   "cell_type": "markdown",
   "id": "fbdef47b",
   "metadata": {},
   "source": [
    "# FEATURE ENGINEERING"
   ]
  },
  {
   "cell_type": "code",
   "execution_count": 66,
   "id": "5d8502dc",
   "metadata": {},
   "outputs": [],
   "source": [
    "# Import pandas for data manipulation and analysis, which is essential for feature engineering tasks\n",
    "import pandas as pd"
   ]
  },
  {
   "cell_type": "code",
   "execution_count": 67,
   "id": "67e64de1",
   "metadata": {},
   "outputs": [],
   "source": [
    "# Load the loan prediction dataset into a pandas DataFrame for analysis and feature engineering\n",
    "loan_predictions = pd.read_csv('loan_prediction.csv')"
   ]
  },
  {
   "cell_type": "code",
   "execution_count": 68,
   "id": "83e6a463",
   "metadata": {},
   "outputs": [
    {
     "name": "stdout",
     "output_type": "stream",
     "text": [
      "    Loan_ID Gender Married Dependents     Education Self_Employed  \\\n",
      "0  LP001015   Male     Yes          0      Graduate            No   \n",
      "1  LP001022   Male     Yes          1      Graduate            No   \n",
      "2  LP001031   Male     Yes          2      Graduate            No   \n",
      "3  LP001035   Male     Yes          2      Graduate            No   \n",
      "4  LP001051   Male      No          0  Not Graduate            No   \n",
      "\n",
      "   ApplicantIncome  CoapplicantIncome  LoanAmount  Loan_Amount_Term  \\\n",
      "0             5720                  0       110.0             360.0   \n",
      "1             3076               1500       126.0             360.0   \n",
      "2             5000               1800       208.0             360.0   \n",
      "3             2340               2546       100.0             360.0   \n",
      "4             3276                  0        78.0             360.0   \n",
      "\n",
      "   Credit_History Property_Area  \n",
      "0             1.0         Urban  \n",
      "1             1.0         Urban  \n",
      "2             1.0         Urban  \n",
      "3             NaN         Urban  \n",
      "4             1.0         Urban  \n"
     ]
    }
   ],
   "source": [
    "# Display the first 5 rows to get an overview of the dataset's structure and sample values\n",
    "print(loan_predictions.head())"
   ]
  },
  {
   "cell_type": "code",
   "execution_count": 69,
   "id": "a70bc59e",
   "metadata": {},
   "outputs": [
    {
     "name": "stdout",
     "output_type": "stream",
     "text": [
      "      Loan_ID Gender Married Dependents     Education Self_Employed  \\\n",
      "362  LP002971   Male     Yes         3+  Not Graduate           Yes   \n",
      "363  LP002975   Male     Yes          0      Graduate            No   \n",
      "364  LP002980   Male      No          0      Graduate            No   \n",
      "365  LP002986   Male     Yes          0      Graduate            No   \n",
      "366  LP002989   Male      No          0      Graduate           Yes   \n",
      "\n",
      "     ApplicantIncome  CoapplicantIncome  LoanAmount  Loan_Amount_Term  \\\n",
      "362             4009               1777       113.0             360.0   \n",
      "363             4158                709       115.0             360.0   \n",
      "364             3250               1993       126.0             360.0   \n",
      "365             5000               2393       158.0             360.0   \n",
      "366             9200                  0        98.0             180.0   \n",
      "\n",
      "     Credit_History Property_Area  \n",
      "362             1.0         Urban  \n",
      "363             1.0         Urban  \n",
      "364             NaN     Semiurban  \n",
      "365             1.0         Rural  \n",
      "366             1.0         Rural  \n"
     ]
    }
   ],
   "source": [
    "# Display the last 5 rows to check for any irregularities or patterns at the end of the dataset\n",
    "print(loan_predictions.tail())"
   ]
  },
  {
   "cell_type": "code",
   "execution_count": 70,
   "id": "290653d2",
   "metadata": {},
   "outputs": [
    {
     "name": "stdout",
     "output_type": "stream",
     "text": [
      "Loan_ID   Gender  Married  Dependents  Education     Self_Employed  ApplicantIncome  CoapplicantIncome  LoanAmount  Loan_Amount_Term  Credit_History  Property_Area\n",
      "LP002989  Male    No       0           Graduate      Yes            9200             0                  98.0        180.0             1.0             Rural            1\n",
      "LP002879  Male    Yes      0           Graduate      No             3391             1966               133.0       360.0             0.0             Rural            1\n",
      "LP002878  Male    Yes      3+          Graduate      No             8334             0                  260.0       360.0             1.0             Urban            1\n",
      "LP002876  Male    No       0           Graduate      No             6858             0                  176.0       360.0             1.0             Rural            1\n",
      "LP002870  Male    Yes      1           Graduate      No             4700             0                  80.0        360.0             1.0             Urban            1\n",
      "                                                                                                                                                                      ..\n",
      "LP001055  Female  No       1           Not Graduate  No             2226             0                  59.0        360.0             1.0             Semiurban        1\n",
      "LP001054  Male    Yes      0           Not Graduate  Yes            2165             3422               152.0       360.0             1.0             Urban            1\n",
      "LP001051  Male    No       0           Not Graduate  No             3276             0                  78.0        360.0             1.0             Urban            1\n",
      "LP001031  Male    Yes      2           Graduate      No             5000             1800               208.0       360.0             1.0             Urban            1\n",
      "LP001022  Male    Yes      1           Graduate      No             3076             1500               126.0       360.0             1.0             Urban            1\n",
      "Name: count, Length: 289, dtype: int64\n"
     ]
    }
   ],
   "source": [
    "# Show the frequency of unique rows in the dataset, useful for identifying duplicate or common records\n",
    "print(loan_predictions.value_counts())"
   ]
  },
  {
   "cell_type": "code",
   "execution_count": 71,
   "id": "99703886",
   "metadata": {},
   "outputs": [
    {
     "name": "stdout",
     "output_type": "stream",
     "text": [
      "       ApplicantIncome  CoapplicantIncome  LoanAmount  Loan_Amount_Term  \\\n",
      "count       367.000000         367.000000  362.000000        361.000000   \n",
      "mean       4805.599455        1569.577657  136.132597        342.537396   \n",
      "std        4910.685399        2334.232099   61.366652         65.156643   \n",
      "min           0.000000           0.000000   28.000000          6.000000   \n",
      "25%        2864.000000           0.000000  100.250000        360.000000   \n",
      "50%        3786.000000        1025.000000  125.000000        360.000000   \n",
      "75%        5060.000000        2430.500000  158.000000        360.000000   \n",
      "max       72529.000000       24000.000000  550.000000        480.000000   \n",
      "\n",
      "       Credit_History  \n",
      "count      338.000000  \n",
      "mean         0.825444  \n",
      "std          0.380150  \n",
      "min          0.000000  \n",
      "25%          1.000000  \n",
      "50%          1.000000  \n",
      "75%          1.000000  \n",
      "max          1.000000  \n"
     ]
    }
   ],
   "source": [
    "# Generate descriptive statistics for numerical columns to understand data distribution and spot anomalies\n",
    "# Get summary statistics for numerical columns (mean, std, min, max, etc.)\n",
    "print(loan_predictions.describe())"
   ]
  },
  {
   "cell_type": "code",
   "execution_count": 72,
   "id": "4b49add8",
   "metadata": {},
   "outputs": [
    {
     "name": "stdout",
     "output_type": "stream",
     "text": [
      "<class 'pandas.core.frame.DataFrame'>\n",
      "RangeIndex: 367 entries, 0 to 366\n",
      "Data columns (total 12 columns):\n",
      " #   Column             Non-Null Count  Dtype  \n",
      "---  ------             --------------  -----  \n",
      " 0   Loan_ID            367 non-null    object \n",
      " 1   Gender             356 non-null    object \n",
      " 2   Married            367 non-null    object \n",
      " 3   Dependents         357 non-null    object \n",
      " 4   Education          367 non-null    object \n",
      " 5   Self_Employed      344 non-null    object \n",
      " 6   ApplicantIncome    367 non-null    int64  \n",
      " 7   CoapplicantIncome  367 non-null    int64  \n",
      " 8   LoanAmount         362 non-null    float64\n",
      " 9   Loan_Amount_Term   361 non-null    float64\n",
      " 10  Credit_History     338 non-null    float64\n",
      " 11  Property_Area      367 non-null    object \n",
      "dtypes: float64(3), int64(2), object(7)\n",
      "memory usage: 34.5+ KB\n",
      "None\n"
     ]
    }
   ],
   "source": [
    "# Display column data types and non-null counts to identify missing values and data types for feature engineering\n",
    "print(loan_predictions.info())"
   ]
  },
  {
   "cell_type": "code",
   "execution_count": 73,
   "id": "169eb995",
   "metadata": {},
   "outputs": [
    {
     "name": "stdout",
     "output_type": "stream",
     "text": [
      "(367, 12)\n"
     ]
    }
   ],
   "source": [
    "# Print the shape (rows, columns) of the dataset to understand its size\n",
    "print(loan_predictions.shape)"
   ]
  },
  {
   "cell_type": "code",
   "execution_count": 74,
   "id": "02c40032",
   "metadata": {},
   "outputs": [
    {
     "name": "stdout",
     "output_type": "stream",
     "text": [
      "Loan_ID               object\n",
      "Gender                object\n",
      "Married               object\n",
      "Dependents            object\n",
      "Education             object\n",
      "Self_Employed         object\n",
      "ApplicantIncome        int64\n",
      "CoapplicantIncome      int64\n",
      "LoanAmount           float64\n",
      "Loan_Amount_Term     float64\n",
      "Credit_History       float64\n",
      "Property_Area         object\n",
      "dtype: object\n"
     ]
    }
   ],
   "source": [
    "# Print the data types of each column to ensure correct types for feature engineering\n",
    "print(loan_predictions.dtypes)"
   ]
  },
  {
   "cell_type": "markdown",
   "id": "4ee54494",
   "metadata": {},
   "source": [
    "## Handling missing values\n",
    "\n",
    "Identify and fill missing values to ensure data quality before feature engineering.\n",
    "\n",
    "Missing values can negatively impact model performance. In feature engineering, it's important to identify and handle missing data using appropriate strategies such as filling with mean, median, mode, or using domain knowledge.\n"
   ]
  },
  {
   "cell_type": "code",
   "execution_count": 75,
   "id": "436b5108",
   "metadata": {},
   "outputs": [
    {
     "name": "stdout",
     "output_type": "stream",
     "text": [
      "Loan_ID               0\n",
      "Gender               11\n",
      "Married               0\n",
      "Dependents           10\n",
      "Education             0\n",
      "Self_Employed        23\n",
      "ApplicantIncome       0\n",
      "CoapplicantIncome     0\n",
      "LoanAmount            5\n",
      "Loan_Amount_Term      6\n",
      "Credit_History       29\n",
      "Property_Area         0\n",
      "dtype: int64\n"
     ]
    }
   ],
   "source": [
    "# Count missing values in each column to determine which features need imputation\n",
    "print(loan_predictions.isnull().sum())"
   ]
  },
  {
   "cell_type": "code",
   "execution_count": 76,
   "id": "ec2aaae1",
   "metadata": {},
   "outputs": [],
   "source": [
    "# Fill missing values in 'Gender' with the most frequent value (mode) to maintain consistency\n",
    "loan_predictions['Gender']=loan_predictions['Gender'].fillna(loan_predictions['Gender'].mode())"
   ]
  },
  {
   "cell_type": "code",
   "execution_count": 77,
   "id": "26f77a86",
   "metadata": {},
   "outputs": [
    {
     "name": "stdout",
     "output_type": "stream",
     "text": [
      "Gender\n",
      "Male      286\n",
      "Female     70\n",
      "Name: count, dtype: int64\n"
     ]
    }
   ],
   "source": [
    "# Check the distribution of 'Gender' after filling missing values\n",
    "# The value_counts() function is used here to count the occurrence of each category in the 'Gender' column,\n",
    "# helping us to understand the distribution of gender in the dataset after imputation of missing values.\n",
    "print(loan_predictions['Gender'].value_counts())"
   ]
  },
  {
   "cell_type": "code",
   "execution_count": 78,
   "id": "e8c1b3c1",
   "metadata": {},
   "outputs": [
    {
     "name": "stdout",
     "output_type": "stream",
     "text": [
      "Dependents\n",
      "0     210\n",
      "2      59\n",
      "1      58\n",
      "3+     40\n",
      "Name: count, dtype: int64\n"
     ]
    }
   ],
   "source": [
    "# Fill missing values in 'Dependents' with the mode and check the updated distribution\n",
    "loan_predictions['Dependents']=loan_predictions['Dependents'].fillna(loan_predictions['Dependents'].mode()[0])\n",
    "print(loan_predictions['Dependents'].value_counts())"
   ]
  },
  {
   "cell_type": "code",
   "execution_count": 79,
   "id": "55bc59e2",
   "metadata": {},
   "outputs": [
    {
     "name": "stdout",
     "output_type": "stream",
     "text": [
      "Self_Employed\n",
      "No     307\n",
      "Yes     37\n",
      "Name: count, dtype: int64\n"
     ]
    }
   ],
   "source": [
    "# Fill missing values in 'Self_Employed' with the mode and check the updated distribution\n",
    "loan_predictions['Self_Employed']=loan_predictions['Self_Employed'].fillna(loan_predictions['Self_Employed'].mode())\n",
    "print(loan_predictions['Self_Employed'].value_counts())"
   ]
  },
  {
   "cell_type": "code",
   "execution_count": 80,
   "id": "a7e21382",
   "metadata": {},
   "outputs": [
    {
     "name": "stdout",
     "output_type": "stream",
     "text": [
      "LoanAmount\n",
      "125.0    16\n",
      "150.0    12\n",
      "110.0    10\n",
      "100.0     9\n",
      "120.0     9\n",
      "         ..\n",
      "197.0     1\n",
      "85.0      1\n",
      "60.0      1\n",
      "76.0      1\n",
      "98.0      1\n",
      "Name: count, Length: 144, dtype: int64\n"
     ]
    }
   ],
   "source": [
    "# Fill missing values in 'LoanAmount' with the median to reduce the effect of outliers\n",
    "loan_predictions['LoanAmount']=loan_predictions['LoanAmount'].fillna(loan_predictions['LoanAmount'].median())\n",
    "print(loan_predictions['LoanAmount'].value_counts())"
   ]
  },
  {
   "cell_type": "code",
   "execution_count": 81,
   "id": "a77c5a52",
   "metadata": {},
   "outputs": [
    {
     "name": "stdout",
     "output_type": "stream",
     "text": [
      "Loan_Amount_Term\n",
      "360.0    317\n",
      "180.0     22\n",
      "480.0      8\n",
      "300.0      7\n",
      "240.0      4\n",
      "84.0       3\n",
      "60.0       1\n",
      "12.0       1\n",
      "350.0      1\n",
      "36.0       1\n",
      "120.0      1\n",
      "6.0        1\n",
      "Name: count, dtype: int64\n"
     ]
    }
   ],
   "source": [
    "# Fill missing values in 'Loan_Amount_Term' with the median value\n",
    "loan_predictions['Loan_Amount_Term']=loan_predictions['Loan_Amount_Term'].fillna(loan_predictions['Loan_Amount_Term'].median())\n",
    "print(loan_predictions['Loan_Amount_Term'].value_counts())"
   ]
  },
  {
   "cell_type": "code",
   "execution_count": 82,
   "id": "8694de7a",
   "metadata": {},
   "outputs": [
    {
     "name": "stdout",
     "output_type": "stream",
     "text": [
      "Credit_History\n",
      "1.0    279\n",
      "0.0     59\n",
      "Name: count, dtype: int64\n"
     ]
    }
   ],
   "source": [
    "# Fill missing values in 'Credit_History' with the mode (most common value)\n",
    "loan_predictions['Credit_History']=loan_predictions['Credit_History'].fillna(loan_predictions['Credit_History'].mode())\n",
    "print(loan_predictions['Credit_History'].value_counts())"
   ]
  },
  {
   "cell_type": "markdown",
   "id": "bc4cde2f",
   "metadata": {},
   "source": [
    "## Feature Extraction\n",
    "\n",
    "Feature extraction is the process of transforming raw data into a set of features that can be effectively used for modeling. This includes encoding categorical variables, scaling numerical features, and engineering new features that better represent the underlying problem."
   ]
  },
  {
   "cell_type": "markdown",
   "id": "8bc184ee",
   "metadata": {},
   "source": [
    "## Encode Categorical Data\n",
    "\n",
    "Convert categorical variables into numerical format for machine learning models.\n",
    "\n",
    "Machine learning models require numerical input. Categorical variables must be encoded into numbers using techniques like label encoding or one-hot encoding as part of feature engineering."
   ]
  },
  {
   "cell_type": "code",
   "execution_count": 83,
   "id": "63680f7a",
   "metadata": {},
   "outputs": [],
   "source": [
    "# Replace '3+' with 3 and convert 'Dependents' to integer for numerical analysis\n",
    "loan_predictions['Dependents'] = loan_predictions['Dependents'].replace('3+', 3).astype(int)\n",
    "loan_predictions['Dependents'] = loan_predictions['Dependents'].astype(int)\n"
   ]
  },
  {
   "cell_type": "code",
   "execution_count": 84,
   "id": "29bd5c6a",
   "metadata": {},
   "outputs": [
    {
     "data": {
      "text/plain": [
       "Gender\n",
       "Male      286\n",
       "Female     70\n",
       "Name: count, dtype: int64"
      ]
     },
     "execution_count": 84,
     "metadata": {},
     "output_type": "execute_result"
    }
   ],
   "source": [
    "# Check the distribution of 'Gender' before encoding to numerical values\n",
    "loan_predictions['Gender'].value_counts()"
   ]
  },
  {
   "cell_type": "code",
   "execution_count": 85,
   "id": "1ef3b989",
   "metadata": {},
   "outputs": [],
   "source": [
    "# Encode 'Gender': Female as 0, Male as 1 for model compatibility\n",
    "loan_predictions['Gender'] = loan_predictions['Gender'].map({'Female':0,'Male':1})"
   ]
  },
  {
   "cell_type": "code",
   "execution_count": 86,
   "id": "7a342d76",
   "metadata": {},
   "outputs": [
    {
     "data": {
      "text/plain": [
       "Gender\n",
       "1.0    286\n",
       "0.0     70\n",
       "Name: count, dtype: int64"
      ]
     },
     "execution_count": 86,
     "metadata": {},
     "output_type": "execute_result"
    }
   ],
   "source": [
    "# Check the distribution of 'Gender' after encoding\n",
    "# The value_counts() function is used to count the number of occurrences of each unique value in the 'Gender' column\n",
    "# This helps us understand the distribution of different genders in the dataset after encoding\n",
    "loan_predictions['Gender'].value_counts()"
   ]
  },
  {
   "cell_type": "code",
   "execution_count": 87,
   "id": "eb78ae85",
   "metadata": {},
   "outputs": [
    {
     "name": "stdout",
     "output_type": "stream",
     "text": [
      "Married\n",
      "1    233\n",
      "0    134\n",
      "Name: count, dtype: int64\n"
     ]
    }
   ],
   "source": [
    "# Encode 'Married': No as 0, Yes as 1, and check the distribution\n",
    "# This mapping allows the machine learning model to interpret the 'Married' feature numerically.\n",
    "loan_predictions['Married']=loan_predictions['Married'].map({'No':0,'Yes':1})\n",
    "print(loan_predictions['Married'].value_counts())"
   ]
  },
  {
   "cell_type": "code",
   "execution_count": 88,
   "id": "e637cd62",
   "metadata": {},
   "outputs": [
    {
     "data": {
      "text/html": [
       "<div>\n",
       "<style scoped>\n",
       "    .dataframe tbody tr th:only-of-type {\n",
       "        vertical-align: middle;\n",
       "    }\n",
       "\n",
       "    .dataframe tbody tr th {\n",
       "        vertical-align: top;\n",
       "    }\n",
       "\n",
       "    .dataframe thead th {\n",
       "        text-align: right;\n",
       "    }\n",
       "</style>\n",
       "<table border=\"1\" class=\"dataframe\">\n",
       "  <thead>\n",
       "    <tr style=\"text-align: right;\">\n",
       "      <th></th>\n",
       "      <th>Loan_ID</th>\n",
       "      <th>Gender</th>\n",
       "      <th>Married</th>\n",
       "      <th>Dependents</th>\n",
       "      <th>Education</th>\n",
       "      <th>Self_Employed</th>\n",
       "      <th>ApplicantIncome</th>\n",
       "      <th>CoapplicantIncome</th>\n",
       "      <th>LoanAmount</th>\n",
       "      <th>Loan_Amount_Term</th>\n",
       "      <th>Credit_History</th>\n",
       "      <th>Property_Area</th>\n",
       "    </tr>\n",
       "  </thead>\n",
       "  <tbody>\n",
       "    <tr>\n",
       "      <th>0</th>\n",
       "      <td>LP001015</td>\n",
       "      <td>1.0</td>\n",
       "      <td>1</td>\n",
       "      <td>0</td>\n",
       "      <td>Graduate</td>\n",
       "      <td>No</td>\n",
       "      <td>5720</td>\n",
       "      <td>0</td>\n",
       "      <td>110.0</td>\n",
       "      <td>360.0</td>\n",
       "      <td>1.0</td>\n",
       "      <td>Urban</td>\n",
       "    </tr>\n",
       "    <tr>\n",
       "      <th>1</th>\n",
       "      <td>LP001022</td>\n",
       "      <td>1.0</td>\n",
       "      <td>1</td>\n",
       "      <td>1</td>\n",
       "      <td>Graduate</td>\n",
       "      <td>No</td>\n",
       "      <td>3076</td>\n",
       "      <td>1500</td>\n",
       "      <td>126.0</td>\n",
       "      <td>360.0</td>\n",
       "      <td>1.0</td>\n",
       "      <td>Urban</td>\n",
       "    </tr>\n",
       "    <tr>\n",
       "      <th>2</th>\n",
       "      <td>LP001031</td>\n",
       "      <td>1.0</td>\n",
       "      <td>1</td>\n",
       "      <td>2</td>\n",
       "      <td>Graduate</td>\n",
       "      <td>No</td>\n",
       "      <td>5000</td>\n",
       "      <td>1800</td>\n",
       "      <td>208.0</td>\n",
       "      <td>360.0</td>\n",
       "      <td>1.0</td>\n",
       "      <td>Urban</td>\n",
       "    </tr>\n",
       "    <tr>\n",
       "      <th>3</th>\n",
       "      <td>LP001035</td>\n",
       "      <td>1.0</td>\n",
       "      <td>1</td>\n",
       "      <td>2</td>\n",
       "      <td>Graduate</td>\n",
       "      <td>No</td>\n",
       "      <td>2340</td>\n",
       "      <td>2546</td>\n",
       "      <td>100.0</td>\n",
       "      <td>360.0</td>\n",
       "      <td>NaN</td>\n",
       "      <td>Urban</td>\n",
       "    </tr>\n",
       "    <tr>\n",
       "      <th>4</th>\n",
       "      <td>LP001051</td>\n",
       "      <td>1.0</td>\n",
       "      <td>0</td>\n",
       "      <td>0</td>\n",
       "      <td>Not Graduate</td>\n",
       "      <td>No</td>\n",
       "      <td>3276</td>\n",
       "      <td>0</td>\n",
       "      <td>78.0</td>\n",
       "      <td>360.0</td>\n",
       "      <td>1.0</td>\n",
       "      <td>Urban</td>\n",
       "    </tr>\n",
       "    <tr>\n",
       "      <th>...</th>\n",
       "      <td>...</td>\n",
       "      <td>...</td>\n",
       "      <td>...</td>\n",
       "      <td>...</td>\n",
       "      <td>...</td>\n",
       "      <td>...</td>\n",
       "      <td>...</td>\n",
       "      <td>...</td>\n",
       "      <td>...</td>\n",
       "      <td>...</td>\n",
       "      <td>...</td>\n",
       "      <td>...</td>\n",
       "    </tr>\n",
       "    <tr>\n",
       "      <th>362</th>\n",
       "      <td>LP002971</td>\n",
       "      <td>1.0</td>\n",
       "      <td>1</td>\n",
       "      <td>3</td>\n",
       "      <td>Not Graduate</td>\n",
       "      <td>Yes</td>\n",
       "      <td>4009</td>\n",
       "      <td>1777</td>\n",
       "      <td>113.0</td>\n",
       "      <td>360.0</td>\n",
       "      <td>1.0</td>\n",
       "      <td>Urban</td>\n",
       "    </tr>\n",
       "    <tr>\n",
       "      <th>363</th>\n",
       "      <td>LP002975</td>\n",
       "      <td>1.0</td>\n",
       "      <td>1</td>\n",
       "      <td>0</td>\n",
       "      <td>Graduate</td>\n",
       "      <td>No</td>\n",
       "      <td>4158</td>\n",
       "      <td>709</td>\n",
       "      <td>115.0</td>\n",
       "      <td>360.0</td>\n",
       "      <td>1.0</td>\n",
       "      <td>Urban</td>\n",
       "    </tr>\n",
       "    <tr>\n",
       "      <th>364</th>\n",
       "      <td>LP002980</td>\n",
       "      <td>1.0</td>\n",
       "      <td>0</td>\n",
       "      <td>0</td>\n",
       "      <td>Graduate</td>\n",
       "      <td>No</td>\n",
       "      <td>3250</td>\n",
       "      <td>1993</td>\n",
       "      <td>126.0</td>\n",
       "      <td>360.0</td>\n",
       "      <td>NaN</td>\n",
       "      <td>Semiurban</td>\n",
       "    </tr>\n",
       "    <tr>\n",
       "      <th>365</th>\n",
       "      <td>LP002986</td>\n",
       "      <td>1.0</td>\n",
       "      <td>1</td>\n",
       "      <td>0</td>\n",
       "      <td>Graduate</td>\n",
       "      <td>No</td>\n",
       "      <td>5000</td>\n",
       "      <td>2393</td>\n",
       "      <td>158.0</td>\n",
       "      <td>360.0</td>\n",
       "      <td>1.0</td>\n",
       "      <td>Rural</td>\n",
       "    </tr>\n",
       "    <tr>\n",
       "      <th>366</th>\n",
       "      <td>LP002989</td>\n",
       "      <td>1.0</td>\n",
       "      <td>0</td>\n",
       "      <td>0</td>\n",
       "      <td>Graduate</td>\n",
       "      <td>Yes</td>\n",
       "      <td>9200</td>\n",
       "      <td>0</td>\n",
       "      <td>98.0</td>\n",
       "      <td>180.0</td>\n",
       "      <td>1.0</td>\n",
       "      <td>Rural</td>\n",
       "    </tr>\n",
       "  </tbody>\n",
       "</table>\n",
       "<p>367 rows × 12 columns</p>\n",
       "</div>"
      ],
      "text/plain": [
       "      Loan_ID  Gender  Married  Dependents     Education Self_Employed  \\\n",
       "0    LP001015     1.0        1           0      Graduate            No   \n",
       "1    LP001022     1.0        1           1      Graduate            No   \n",
       "2    LP001031     1.0        1           2      Graduate            No   \n",
       "3    LP001035     1.0        1           2      Graduate            No   \n",
       "4    LP001051     1.0        0           0  Not Graduate            No   \n",
       "..        ...     ...      ...         ...           ...           ...   \n",
       "362  LP002971     1.0        1           3  Not Graduate           Yes   \n",
       "363  LP002975     1.0        1           0      Graduate            No   \n",
       "364  LP002980     1.0        0           0      Graduate            No   \n",
       "365  LP002986     1.0        1           0      Graduate            No   \n",
       "366  LP002989     1.0        0           0      Graduate           Yes   \n",
       "\n",
       "     ApplicantIncome  CoapplicantIncome  LoanAmount  Loan_Amount_Term  \\\n",
       "0               5720                  0       110.0             360.0   \n",
       "1               3076               1500       126.0             360.0   \n",
       "2               5000               1800       208.0             360.0   \n",
       "3               2340               2546       100.0             360.0   \n",
       "4               3276                  0        78.0             360.0   \n",
       "..               ...                ...         ...               ...   \n",
       "362             4009               1777       113.0             360.0   \n",
       "363             4158                709       115.0             360.0   \n",
       "364             3250               1993       126.0             360.0   \n",
       "365             5000               2393       158.0             360.0   \n",
       "366             9200                  0        98.0             180.0   \n",
       "\n",
       "     Credit_History Property_Area  \n",
       "0               1.0         Urban  \n",
       "1               1.0         Urban  \n",
       "2               1.0         Urban  \n",
       "3               NaN         Urban  \n",
       "4               1.0         Urban  \n",
       "..              ...           ...  \n",
       "362             1.0         Urban  \n",
       "363             1.0         Urban  \n",
       "364             NaN     Semiurban  \n",
       "365             1.0         Rural  \n",
       "366             1.0         Rural  \n",
       "\n",
       "[367 rows x 12 columns]"
      ]
     },
     "execution_count": 88,
     "metadata": {},
     "output_type": "execute_result"
    }
   ],
   "source": [
    "loan_predictions\n",
    "\n",
    "# Display the DataFrame to verify the changes after encoding categorical variables\n",
    "loan_predictions"
   ]
  },
  {
   "cell_type": "code",
   "execution_count": 89,
   "id": "5c28b695",
   "metadata": {},
   "outputs": [
    {
     "name": "stdout",
     "output_type": "stream",
     "text": [
      "Self_Employed\n",
      "0.0    307\n",
      "1.0     37\n",
      "Name: count, dtype: int64\n"
     ]
    }
   ],
   "source": [
    "# Encode 'Self_Employed': No as 0, Yes as 1, and check the distribution\n",
    "# This mapping allows us to convert the categorical variable 'Self_Employed'\n",
    "# into a numerical format that can be used for analysis or modeling.\n",
    "loan_predictions['Self_Employed']=loan_predictions['Self_Employed'].map({'No':0,'Yes':1})\n",
    "print(loan_predictions['Self_Employed'].value_counts())"
   ]
  },
  {
   "cell_type": "code",
   "execution_count": 90,
   "id": "fdb4bb0a",
   "metadata": {},
   "outputs": [
    {
     "name": "stdout",
     "output_type": "stream",
     "text": [
      "Education\n",
      "1    283\n",
      "0     84\n",
      "Name: count, dtype: int64\n"
     ]
    }
   ],
   "source": [
    "# Encode 'Education': Not Graduate as 0, Graduate as 1, and check the distribution\n",
    "# This mapping allows the machine learning model to interpret the education level as numerical values.\n",
    "# A value of 0 represents 'Not Graduate' and 1 represents 'Graduate'.\n",
    "loan_predictions['Education']=loan_predictions['Education'].map({'Not Graduate':0,'Graduate':1})\n",
    "print(loan_predictions['Education'].value_counts())"
   ]
  },
  {
   "cell_type": "code",
   "execution_count": 91,
   "id": "6ec714b1",
   "metadata": {},
   "outputs": [],
   "source": [
    "# Rename 'Education' column to 'Graduated' for clarity\n",
    "# The 'Education' column is renamed to 'Graduated' to better reflect the information it contains\n",
    "loan_predictions = loan_predictions.rename(columns={'Education': 'Graduated'})"
   ]
  },
  {
   "cell_type": "code",
   "execution_count": 92,
   "id": "3e5256d2",
   "metadata": {},
   "outputs": [
    {
     "name": "stdout",
     "output_type": "stream",
     "text": [
      "Graduated\n",
      "1    283\n",
      "0     84\n",
      "Name: count, dtype: int64\n"
     ]
    }
   ],
   "source": [
    "# Check the distribution of the 'Graduated' column\n",
    "# The value_counts() function is used here to count the unique values in the 'Graduated' column\n",
    "# and provide a breakdown of how many times each value appears, helping us understand the distribution\n",
    "# of the target variable in the dataset.\n",
    "print(loan_predictions['Graduated'].value_counts())"
   ]
  },
  {
   "cell_type": "code",
   "execution_count": 93,
   "id": "55ef2908",
   "metadata": {},
   "outputs": [
    {
     "name": "stdout",
     "output_type": "stream",
     "text": [
      "      Loan_ID  Gender  Married  Dependents  Graduated  Self_Employed  \\\n",
      "0    LP001015     1.0        1           0          1            0.0   \n",
      "1    LP001022     1.0        1           1          1            0.0   \n",
      "2    LP001031     1.0        1           2          1            0.0   \n",
      "3    LP001035     1.0        1           2          1            0.0   \n",
      "4    LP001051     1.0        0           0          0            0.0   \n",
      "..        ...     ...      ...         ...        ...            ...   \n",
      "362  LP002971     1.0        1           3          0            1.0   \n",
      "363  LP002975     1.0        1           0          1            0.0   \n",
      "364  LP002980     1.0        0           0          1            0.0   \n",
      "365  LP002986     1.0        1           0          1            0.0   \n",
      "366  LP002989     1.0        0           0          1            1.0   \n",
      "\n",
      "     ApplicantIncome  CoapplicantIncome  LoanAmount  Loan_Amount_Term  \\\n",
      "0               5720                  0       110.0             360.0   \n",
      "1               3076               1500       126.0             360.0   \n",
      "2               5000               1800       208.0             360.0   \n",
      "3               2340               2546       100.0             360.0   \n",
      "4               3276                  0        78.0             360.0   \n",
      "..               ...                ...         ...               ...   \n",
      "362             4009               1777       113.0             360.0   \n",
      "363             4158                709       115.0             360.0   \n",
      "364             3250               1993       126.0             360.0   \n",
      "365             5000               2393       158.0             360.0   \n",
      "366             9200                  0        98.0             180.0   \n",
      "\n",
      "     Credit_History  Is__Rural  Is__Semiurban  Is__Urban  \n",
      "0               1.0          0              0          1  \n",
      "1               1.0          0              0          1  \n",
      "2               1.0          0              0          1  \n",
      "3               NaN          0              0          1  \n",
      "4               1.0          0              0          1  \n",
      "..              ...        ...            ...        ...  \n",
      "362             1.0          0              0          1  \n",
      "363             1.0          0              0          1  \n",
      "364             NaN          0              1          0  \n",
      "365             1.0          1              0          0  \n",
      "366             1.0          1              0          0  \n",
      "\n",
      "[367 rows x 14 columns]\n"
     ]
    }
   ],
   "source": [
    "# Apply one-hot encoding to 'Property_Area' to create binary columns for each category\n",
    "# One-hot encode 'Property_Area' and add prefix 'Is_' to new columns\n",
    "loan_predictions=pd.get_dummies(loan_predictions, columns=['Property_Area'],prefix='Is_',dtype=int)\n",
    "print(loan_predictions)"
   ]
  },
  {
   "cell_type": "markdown",
   "id": "0ccfa073",
   "metadata": {},
   "source": [
    "## Feature Generation\n",
    "\n",
    "Feature generation involves creating new features from existing data to provide additional information to machine learning models. By combining or transforming existing variables, we can help models capture more complex patterns and relationships, potentially improving predictive performance."
   ]
  },
  {
   "cell_type": "code",
   "execution_count": 94,
   "id": "6b1e39fb",
   "metadata": {},
   "outputs": [],
   "source": [
    "# Create a new feature 'TotalIncome' by summing 'ApplicantIncome' and 'CoapplicantIncome'\n",
    "loan_predictions['TotalIncome'] = loan_predictions['ApplicantIncome'] + loan_predictions['CoapplicantIncome']\n"
   ]
  },
  {
   "cell_type": "code",
   "execution_count": 95,
   "id": "4f408b1d",
   "metadata": {},
   "outputs": [
    {
     "name": "stdout",
     "output_type": "stream",
     "text": [
      "FamilySize\n",
      "2    113\n",
      "1    110\n",
      "4     58\n",
      "3     51\n",
      "5     35\n",
      "Name: count, dtype: int64\n"
     ]
    }
   ],
   "source": [
    "# Create a new feature 'FamilySize' by adding 'Dependents', 'Married', and 1 (for the applicant)\n",
    "loan_predictions['FamilySize'] = loan_predictions['Dependents'] + loan_predictions['Married'] + 1\n",
    "print(loan_predictions['FamilySize'].value_counts())"
   ]
  },
  {
   "cell_type": "code",
   "execution_count": 96,
   "id": "e7326ac1",
   "metadata": {},
   "outputs": [
    {
     "name": "stdout",
     "output_type": "stream",
     "text": [
      "     TotalIncome  LoanAmount  Income_Loan_Ratio\n",
      "0           5720       110.0          52.000000\n",
      "1           4576       126.0          36.317460\n",
      "2           6800       208.0          32.692308\n",
      "3           4886       100.0          48.860000\n",
      "4           3276        78.0          42.000000\n",
      "..           ...         ...                ...\n",
      "362         5786       113.0          51.203540\n",
      "363         4867       115.0          42.321739\n",
      "364         5243       126.0          41.611111\n",
      "365         7393       158.0          46.791139\n",
      "366         9200        98.0          93.877551\n",
      "\n",
      "[367 rows x 3 columns]\n"
     ]
    }
   ],
   "source": [
    "# Create a new feature 'Income_Loan_Ratio' to measure the ratio of total income to loan amount\n",
    "loan_predictions['Income_Loan_Ratio'] = loan_predictions['TotalIncome'] / loan_predictions['LoanAmount']\n",
    "print(loan_predictions[['TotalIncome', 'LoanAmount', 'Income_Loan_Ratio']])"
   ]
  },
  {
   "cell_type": "code",
   "execution_count": null,
   "id": "2caeb099",
   "metadata": {},
   "outputs": [],
   "source": []
  },
  {
   "cell_type": "code",
   "execution_count": null,
   "id": "100c56f1",
   "metadata": {},
   "outputs": [],
   "source": []
  },
  {
   "cell_type": "code",
   "execution_count": 97,
   "id": "dbe27ec4",
   "metadata": {},
   "outputs": [],
   "source": [
    "# Apply StandardScaler to standardize features (mean=0, std=1) for algorithms sensitive to feature scale\n",
    "from sklearn.preprocessing import StandardScaler\n",
    "\n",
    "scaler = StandardScaler()\n",
    "loan_predictions[['ApplicantIncome', 'CoapplicantIncome', 'LoanAmount', 'TotalIncome', 'Income_Loan_Ratio']] = scaler.fit_transform(\n",
    "    loan_predictions[['ApplicantIncome', 'CoapplicantIncome', 'LoanAmount', 'TotalIncome', 'Income_Loan_Ratio']]\n",
    ")"
   ]
  },
  {
   "cell_type": "code",
   "execution_count": 98,
   "id": "7e91d565",
   "metadata": {},
   "outputs": [
    {
     "name": "stdout",
     "output_type": "stream",
     "text": [
      "     ApplicantIncome  CoapplicantIncome  LoanAmount  TotalIncome  \\\n",
      "0           0.186461          -0.673335   -0.426780    -0.126182   \n",
      "1          -0.352692          -0.029848   -0.163953    -0.346506   \n",
      "2           0.039641           0.098849    1.183033     0.081817   \n",
      "3          -0.502774           0.418877   -0.591047    -0.286803   \n",
      "4          -0.311909          -0.673335   -0.952433    -0.596875   \n",
      "..               ...                ...         ...          ...   \n",
      "362        -0.162439           0.088982   -0.377500    -0.113471   \n",
      "363        -0.132056          -0.369180   -0.344647    -0.290462   \n",
      "364        -0.317211           0.181644   -0.163953    -0.218048   \n",
      "365         0.039641           0.353241    0.361700     0.196024   \n",
      "366         0.896087          -0.673335   -0.623900     0.544037   \n",
      "\n",
      "     Income_Loan_Ratio  \n",
      "0             0.064676  \n",
      "1            -0.365347  \n",
      "2            -0.464751  \n",
      "3            -0.021425  \n",
      "4            -0.209529  \n",
      "..                 ...  \n",
      "362           0.042836  \n",
      "363          -0.200707  \n",
      "364          -0.220193  \n",
      "365          -0.078154  \n",
      "366           1.212978  \n",
      "\n",
      "[367 rows x 5 columns]\n"
     ]
    }
   ],
   "source": [
    "# Display the standardized features to verify the effect of Standard scaling\n",
    "print(loan_predictions[['ApplicantIncome','CoapplicantIncome','LoanAmount','TotalIncome','Income_Loan_Ratio']])"
   ]
  },
  {
   "cell_type": "markdown",
   "id": "4b6329b5",
   "metadata": {},
   "source": [
    "## Correlation Analysis\n",
    "\n",
    "Correlation analysis helps identify relationships between numerical features. By examining the correlation matrix, we can detect multicollinearity, redundant features, and gain insights into which variables are most strongly related. This information is useful for feature selection and improving model interpretability."
   ]
  },
  {
   "cell_type": "code",
   "execution_count": 99,
   "id": "943e68be",
   "metadata": {},
   "outputs": [],
   "source": [
    "# Import seaborn and matplotlib for data visualization and correlation analysis\n",
    "import seaborn as sns\n",
    "import matplotlib.pyplot as plt"
   ]
  },
  {
   "cell_type": "code",
   "execution_count": 100,
   "id": "671bc69b",
   "metadata": {},
   "outputs": [],
   "source": [
    "# Select only numeric columns for correlation analysis and PCA\n",
    "numeric_df = loan_predictions.select_dtypes(include=['int64', 'float64'])\n",
    "\n"
   ]
  },
  {
   "cell_type": "code",
   "execution_count": 101,
   "id": "3282f413",
   "metadata": {},
   "outputs": [
    {
     "name": "stdout",
     "output_type": "stream",
     "text": [
      "                     Gender   Married  Dependents  Graduated  Self_Employed  \\\n",
      "Gender             1.000000  0.284138    0.094203  -0.029299       0.074300   \n",
      "Married            0.284138  1.000000    0.362190  -0.049443       0.032273   \n",
      "Dependents         0.094203  0.362190    1.000000  -0.129572      -0.017065   \n",
      "Graduated         -0.029299 -0.049443   -0.129572   1.000000       0.008729   \n",
      "Self_Employed      0.074300  0.032273   -0.017065   0.008729       1.000000   \n",
      "ApplicantIncome    0.063773  0.051265    0.138004   0.136369       0.077388   \n",
      "CoapplicantIncome  0.084235  0.032548   -0.050024   0.057318      -0.026853   \n",
      "LoanAmount         0.077918  0.179185    0.134761   0.155166       0.084363   \n",
      "Loan_Amount_Term  -0.061847  0.040692   -0.053460  -0.064173      -0.031467   \n",
      "Credit_History     0.037465  0.049732   -0.058287   0.040703       0.097753   \n",
      "Is__Rural          0.049749  0.006513   -0.036394  -0.008388       0.141795   \n",
      "Is__Semiurban     -0.078943 -0.032205   -0.008587  -0.034171      -0.075099   \n",
      "Is__Urban          0.028154  0.024667    0.042633   0.040639      -0.061698   \n",
      "TotalIncome        0.098427  0.063030    0.107882   0.154529       0.061053   \n",
      "FamilySize         0.179903  0.658148    0.940145  -0.122735      -0.001955   \n",
      "Income_Loan_Ratio  0.083211 -0.058139    0.042235   0.089925       0.038679   \n",
      "\n",
      "                   ApplicantIncome  CoapplicantIncome  LoanAmount  \\\n",
      "Gender                    0.063773           0.084235    0.077918   \n",
      "Married                   0.051265           0.032548    0.179185   \n",
      "Dependents                0.138004          -0.050024    0.134761   \n",
      "Graduated                 0.136369           0.057318    0.155166   \n",
      "Self_Employed             0.077388          -0.026853    0.084363   \n",
      "ApplicantIncome           1.000000          -0.110335    0.488737   \n",
      "CoapplicantIncome        -0.110335           1.000000    0.150034   \n",
      "LoanAmount                0.488737           0.150034    1.000000   \n",
      "Loan_Amount_Term          0.023319          -0.008633    0.091867   \n",
      "Credit_History            0.099553          -0.071235   -0.012276   \n",
      "Is__Rural                -0.031106           0.100477    0.022522   \n",
      "Is__Semiurban            -0.008305          -0.028628   -0.023373   \n",
      "Is__Urban                 0.037363          -0.067608    0.001075   \n",
      "TotalIncome               0.894934           0.344733    0.528952   \n",
      "FamilySize                0.130212          -0.028506    0.174359   \n",
      "Income_Loan_Ratio         0.413152           0.350000   -0.168954   \n",
      "\n",
      "                   Loan_Amount_Term  Credit_History  Is__Rural  Is__Semiurban  \\\n",
      "Gender                    -0.061847        0.037465   0.049749      -0.078943   \n",
      "Married                    0.040692        0.049732   0.006513      -0.032205   \n",
      "Dependents                -0.053460       -0.058287  -0.036394      -0.008587   \n",
      "Graduated                 -0.064173        0.040703  -0.008388      -0.034171   \n",
      "Self_Employed             -0.031467        0.097753   0.141795      -0.075099   \n",
      "ApplicantIncome            0.023319        0.099553  -0.031106      -0.008305   \n",
      "CoapplicantIncome         -0.008633       -0.071235   0.100477      -0.028628   \n",
      "LoanAmount                 0.091867       -0.012276   0.022522      -0.023373   \n",
      "Loan_Amount_Term           1.000000       -0.053390  -0.004349      -0.016832   \n",
      "Credit_History            -0.053390        1.000000  -0.034217      -0.044997   \n",
      "Is__Rural                 -0.004349       -0.034217   1.000000      -0.447645   \n",
      "Is__Semiurban             -0.016832       -0.044997  -0.447645       1.000000   \n",
      "Is__Urban                  0.020224        0.075175  -0.517122      -0.533879   \n",
      "TotalIncome                0.018149        0.062023   0.015729      -0.020696   \n",
      "FamilySize                -0.028304       -0.028428  -0.027015      -0.018710   \n",
      "Income_Loan_Ratio         -0.070090        0.075230   0.022566       0.008390   \n",
      "\n",
      "                   Is__Urban  TotalIncome  FamilySize  Income_Loan_Ratio  \n",
      "Gender              0.028154     0.098427    0.179903           0.083211  \n",
      "Married             0.024667     0.063030    0.658148          -0.058139  \n",
      "Dependents          0.042633     0.107882    0.940145           0.042235  \n",
      "Graduated           0.040639     0.154529   -0.122735           0.089925  \n",
      "Self_Employed      -0.061698     0.061053   -0.001955           0.038679  \n",
      "ApplicantIncome     0.037363     0.894934    0.130212           0.413152  \n",
      "CoapplicantIncome  -0.067608     0.344733   -0.028506           0.350000  \n",
      "LoanAmount          0.001075     0.528952    0.174359          -0.168954  \n",
      "Loan_Amount_Term    0.020224     0.018149   -0.028304          -0.070090  \n",
      "Credit_History      0.075175     0.062023   -0.028428           0.075230  \n",
      "Is__Rural          -0.517122     0.015729   -0.027015           0.022566  \n",
      "Is__Semiurban      -0.533879    -0.020696   -0.018710           0.008390  \n",
      "Is__Urban           1.000000     0.004936    0.043454          -0.029369  \n",
      "TotalIncome         0.004936     1.000000    0.110183           0.547337  \n",
      "FamilySize          0.043454     0.110183    1.000000           0.012859  \n",
      "Income_Loan_Ratio  -0.029369     0.547337    0.012859           1.000000  \n"
     ]
    }
   ],
   "source": [
    "# Calculate and display the correlation matrix to understand relationships between numeric features\n",
    "correlation_matrix = numeric_df.corr()\n",
    "print(correlation_matrix)\n"
   ]
  },
  {
   "cell_type": "markdown",
   "id": "b0300226",
   "metadata": {},
   "source": [
    "## Principal Component Analysis (PCA)\n",
    "\n",
    "Principal Component Analysis (PCA) is a dimensionality reduction technique that transforms a large set of variables into a smaller one that still contains most of the information. PCA helps reduce noise, avoid overfitting, and visualize high-dimensional data in two or three dimensions for better understanding."
   ]
  },
  {
   "cell_type": "code",
   "execution_count": 102,
   "id": "0a581b8b",
   "metadata": {},
   "outputs": [
    {
     "name": "stdout",
     "output_type": "stream",
     "text": [
      "[9.98031778e-01 7.01011721e-04]\n"
     ]
    }
   ],
   "source": [
    "# Prepare numeric data for PCA by dropping rows with NaN values\n",
    "numeric_df = loan_predictions.select_dtypes(include=['int64', 'float64'])\n",
    "\n",
    "# Drop rows with any NaN values to avoid errors in PCA\n",
    "numeric_df = numeric_df.dropna()\n",
    "\n",
    "from sklearn.decomposition import PCA\n",
    "\n",
    "# Apply PCA to reduce dimensionality and keep the top 2 principal components\n",
    "pca = PCA(n_components=2)\n",
    "X_pca = pca.fit_transform(numeric_df)\n",
    "\n",
    "# Print the explained variance ratio to see how much variance is captured by each component\n",
    "print(pca.explained_variance_ratio_)"
   ]
  },
  {
   "cell_type": "code",
   "execution_count": 103,
   "id": "f7279bc5",
   "metadata": {},
   "outputs": [
    {
     "data": {
      "image/png": "[encoded data removed]",
      "text/plain": [
       "<Figure size 800x600 with 1 Axes>"
      ]
     },
     "metadata": {},
     "output_type": "display_data"
    }
   ],
   "source": [
    "# Visualize the data in the space of the first two principal components\n",
    "plt.figure(figsize=(8,6))\n",
    "plt.scatter(X_pca[:, 0], X_pca[:, 1], alpha=0.7, edgecolor='k')\n",
    "plt.xlabel('Principal Component 1')\n",
    "plt.ylabel('Principal Component 2')\n",
    "plt.title('PCA - Loan Dataset (2D)')\n",
    "plt.show()"
   ]
  },
  {
   "cell_type": "code",
   "execution_count": null,
   "id": "c1df4bae",
   "metadata": {},
   "outputs": [],
   "source": []
  },
  {
   "cell_type": "code",
   "execution_count": null,
   "id": "1c480686",
   "metadata": {},
   "outputs": [],
   "source": []
  }
 ],
 "metadata": {
  "kernelspec": {
   "display_name": ".venv",
   "language": "python",
   "name": "python3"
  },
  "language_info": {
   "codemirror_mode": {
    "name": "ipython",
    "version": 3
   },
   "file_extension": ".py",
   "mimetype": "text/x-python",
   "name": "python",
   "nbconvert_exporter": "python",
   "pygments_lexer": "ipython3",
   "version": "3.13.3"
  }
 },
 "nbformat": 4,
 "nbformat_minor": 5
}
