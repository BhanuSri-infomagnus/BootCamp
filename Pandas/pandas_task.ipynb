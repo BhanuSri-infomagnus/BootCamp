{
 "cells": [
  {
   "cell_type": "code",
   "execution_count": 3,
   "id": "7b36cfbb",
   "metadata": {},
   "outputs": [],
   "source": [
    "# pandas library for data manipulation and analysis in Python\n",
    "import pandas as pd"
   ]
  },
  {
   "cell_type": "markdown",
   "id": "467f1715",
   "metadata": {},
   "source": [
    "Load the dataset into a pandas DataFrame"
   ]
  },
  {
   "cell_type": "code",
   "execution_count": 4,
   "id": "64bf33f2",
   "metadata": {},
   "outputs": [
    {
     "ename": "FileNotFoundError",
     "evalue": "[Errno 2] No such file or directory: 'C:\\\\Users\\\\Bhanu Sri V\\\\Bootcamp-1\\\\Pandas\\\\train.csv'",
     "output_type": "error",
     "traceback": [
      "\u001b[31m---------------------------------------------------------------------------\u001b[39m",
      "\u001b[31mFileNotFoundError\u001b[39m                         Traceback (most recent call last)",
      "\u001b[36mCell\u001b[39m\u001b[36m \u001b[39m\u001b[32mIn[4]\u001b[39m\u001b[32m, line 3\u001b[39m\n\u001b[32m      1\u001b[39m \u001b[38;5;66;03m# Load the dataset into a pandas DataFrame using read_csv\u001b[39;00m\n\u001b[32m      2\u001b[39m \u001b[38;5;66;03m# pd.read_csv() reads a CSV file and loads it into a DataFrame for further analysis\u001b[39;00m\n\u001b[32m----> \u001b[39m\u001b[32m3\u001b[39m titanic_df = \u001b[43mpd\u001b[49m\u001b[43m.\u001b[49m\u001b[43mread_csv\u001b[49m\u001b[43m(\u001b[49m\u001b[33;43mr\u001b[39;49m\u001b[33;43m'\u001b[39;49m\u001b[33;43mC:\u001b[39;49m\u001b[33;43m\\\u001b[39;49m\u001b[33;43mUsers\u001b[39;49m\u001b[33;43m\\\u001b[39;49m\u001b[33;43mBhanu Sri V\u001b[39;49m\u001b[33;43m\\\u001b[39;49m\u001b[33;43mBootcamp-1\u001b[39;49m\u001b[33;43m\\\u001b[39;49m\u001b[33;43mPandas\u001b[39;49m\u001b[33;43m\\\u001b[39;49m\u001b[33;43mtrain.csv\u001b[39;49m\u001b[33;43m'\u001b[39;49m\u001b[43m)\u001b[49m\n",
      "\u001b[36mFile \u001b[39m\u001b[32mc:\\Users\\Bhanu Sri V\\Bootcamp\\Bootcamp\\.venv\\Lib\\site-packages\\pandas\\io\\parsers\\readers.py:1026\u001b[39m, in \u001b[36mread_csv\u001b[39m\u001b[34m(filepath_or_buffer, sep, delimiter, header, names, index_col, usecols, dtype, engine, converters, true_values, false_values, skipinitialspace, skiprows, skipfooter, nrows, na_values, keep_default_na, na_filter, verbose, skip_blank_lines, parse_dates, infer_datetime_format, keep_date_col, date_parser, date_format, dayfirst, cache_dates, iterator, chunksize, compression, thousands, decimal, lineterminator, quotechar, quoting, doublequote, escapechar, comment, encoding, encoding_errors, dialect, on_bad_lines, delim_whitespace, low_memory, memory_map, float_precision, storage_options, dtype_backend)\u001b[39m\n\u001b[32m   1013\u001b[39m kwds_defaults = _refine_defaults_read(\n\u001b[32m   1014\u001b[39m     dialect,\n\u001b[32m   1015\u001b[39m     delimiter,\n\u001b[32m   (...)\u001b[39m\u001b[32m   1022\u001b[39m     dtype_backend=dtype_backend,\n\u001b[32m   1023\u001b[39m )\n\u001b[32m   1024\u001b[39m kwds.update(kwds_defaults)\n\u001b[32m-> \u001b[39m\u001b[32m1026\u001b[39m \u001b[38;5;28;01mreturn\u001b[39;00m \u001b[43m_read\u001b[49m\u001b[43m(\u001b[49m\u001b[43mfilepath_or_buffer\u001b[49m\u001b[43m,\u001b[49m\u001b[43m \u001b[49m\u001b[43mkwds\u001b[49m\u001b[43m)\u001b[49m\n",
      "\u001b[36mFile \u001b[39m\u001b[32mc:\\Users\\Bhanu Sri V\\Bootcamp\\Bootcamp\\.venv\\Lib\\site-packages\\pandas\\io\\parsers\\readers.py:620\u001b[39m, in \u001b[36m_read\u001b[39m\u001b[34m(filepath_or_buffer, kwds)\u001b[39m\n\u001b[32m    617\u001b[39m _validate_names(kwds.get(\u001b[33m\"\u001b[39m\u001b[33mnames\u001b[39m\u001b[33m\"\u001b[39m, \u001b[38;5;28;01mNone\u001b[39;00m))\n\u001b[32m    619\u001b[39m \u001b[38;5;66;03m# Create the parser.\u001b[39;00m\n\u001b[32m--> \u001b[39m\u001b[32m620\u001b[39m parser = \u001b[43mTextFileReader\u001b[49m\u001b[43m(\u001b[49m\u001b[43mfilepath_or_buffer\u001b[49m\u001b[43m,\u001b[49m\u001b[43m \u001b[49m\u001b[43m*\u001b[49m\u001b[43m*\u001b[49m\u001b[43mkwds\u001b[49m\u001b[43m)\u001b[49m\n\u001b[32m    622\u001b[39m \u001b[38;5;28;01mif\u001b[39;00m chunksize \u001b[38;5;129;01mor\u001b[39;00m iterator:\n\u001b[32m    623\u001b[39m     \u001b[38;5;28;01mreturn\u001b[39;00m parser\n",
      "\u001b[36mFile \u001b[39m\u001b[32mc:\\Users\\Bhanu Sri V\\Bootcamp\\Bootcamp\\.venv\\Lib\\site-packages\\pandas\\io\\parsers\\readers.py:1620\u001b[39m, in \u001b[36mTextFileReader.__init__\u001b[39m\u001b[34m(self, f, engine, **kwds)\u001b[39m\n\u001b[32m   1617\u001b[39m     \u001b[38;5;28mself\u001b[39m.options[\u001b[33m\"\u001b[39m\u001b[33mhas_index_names\u001b[39m\u001b[33m\"\u001b[39m] = kwds[\u001b[33m\"\u001b[39m\u001b[33mhas_index_names\u001b[39m\u001b[33m\"\u001b[39m]\n\u001b[32m   1619\u001b[39m \u001b[38;5;28mself\u001b[39m.handles: IOHandles | \u001b[38;5;28;01mNone\u001b[39;00m = \u001b[38;5;28;01mNone\u001b[39;00m\n\u001b[32m-> \u001b[39m\u001b[32m1620\u001b[39m \u001b[38;5;28mself\u001b[39m._engine = \u001b[38;5;28;43mself\u001b[39;49m\u001b[43m.\u001b[49m\u001b[43m_make_engine\u001b[49m\u001b[43m(\u001b[49m\u001b[43mf\u001b[49m\u001b[43m,\u001b[49m\u001b[43m \u001b[49m\u001b[38;5;28;43mself\u001b[39;49m\u001b[43m.\u001b[49m\u001b[43mengine\u001b[49m\u001b[43m)\u001b[49m\n",
      "\u001b[36mFile \u001b[39m\u001b[32mc:\\Users\\Bhanu Sri V\\Bootcamp\\Bootcamp\\.venv\\Lib\\site-packages\\pandas\\io\\parsers\\readers.py:1880\u001b[39m, in \u001b[36mTextFileReader._make_engine\u001b[39m\u001b[34m(self, f, engine)\u001b[39m\n\u001b[32m   1878\u001b[39m     \u001b[38;5;28;01mif\u001b[39;00m \u001b[33m\"\u001b[39m\u001b[33mb\u001b[39m\u001b[33m\"\u001b[39m \u001b[38;5;129;01mnot\u001b[39;00m \u001b[38;5;129;01min\u001b[39;00m mode:\n\u001b[32m   1879\u001b[39m         mode += \u001b[33m\"\u001b[39m\u001b[33mb\u001b[39m\u001b[33m\"\u001b[39m\n\u001b[32m-> \u001b[39m\u001b[32m1880\u001b[39m \u001b[38;5;28mself\u001b[39m.handles = \u001b[43mget_handle\u001b[49m\u001b[43m(\u001b[49m\n\u001b[32m   1881\u001b[39m \u001b[43m    \u001b[49m\u001b[43mf\u001b[49m\u001b[43m,\u001b[49m\n\u001b[32m   1882\u001b[39m \u001b[43m    \u001b[49m\u001b[43mmode\u001b[49m\u001b[43m,\u001b[49m\n\u001b[32m   1883\u001b[39m \u001b[43m    \u001b[49m\u001b[43mencoding\u001b[49m\u001b[43m=\u001b[49m\u001b[38;5;28;43mself\u001b[39;49m\u001b[43m.\u001b[49m\u001b[43moptions\u001b[49m\u001b[43m.\u001b[49m\u001b[43mget\u001b[49m\u001b[43m(\u001b[49m\u001b[33;43m\"\u001b[39;49m\u001b[33;43mencoding\u001b[39;49m\u001b[33;43m\"\u001b[39;49m\u001b[43m,\u001b[49m\u001b[43m \u001b[49m\u001b[38;5;28;43;01mNone\u001b[39;49;00m\u001b[43m)\u001b[49m\u001b[43m,\u001b[49m\n\u001b[32m   1884\u001b[39m \u001b[43m    \u001b[49m\u001b[43mcompression\u001b[49m\u001b[43m=\u001b[49m\u001b[38;5;28;43mself\u001b[39;49m\u001b[43m.\u001b[49m\u001b[43moptions\u001b[49m\u001b[43m.\u001b[49m\u001b[43mget\u001b[49m\u001b[43m(\u001b[49m\u001b[33;43m\"\u001b[39;49m\u001b[33;43mcompression\u001b[39;49m\u001b[33;43m\"\u001b[39;49m\u001b[43m,\u001b[49m\u001b[43m \u001b[49m\u001b[38;5;28;43;01mNone\u001b[39;49;00m\u001b[43m)\u001b[49m\u001b[43m,\u001b[49m\n\u001b[32m   1885\u001b[39m \u001b[43m    \u001b[49m\u001b[43mmemory_map\u001b[49m\u001b[43m=\u001b[49m\u001b[38;5;28;43mself\u001b[39;49m\u001b[43m.\u001b[49m\u001b[43moptions\u001b[49m\u001b[43m.\u001b[49m\u001b[43mget\u001b[49m\u001b[43m(\u001b[49m\u001b[33;43m\"\u001b[39;49m\u001b[33;43mmemory_map\u001b[39;49m\u001b[33;43m\"\u001b[39;49m\u001b[43m,\u001b[49m\u001b[43m \u001b[49m\u001b[38;5;28;43;01mFalse\u001b[39;49;00m\u001b[43m)\u001b[49m\u001b[43m,\u001b[49m\n\u001b[32m   1886\u001b[39m \u001b[43m    \u001b[49m\u001b[43mis_text\u001b[49m\u001b[43m=\u001b[49m\u001b[43mis_text\u001b[49m\u001b[43m,\u001b[49m\n\u001b[32m   1887\u001b[39m \u001b[43m    \u001b[49m\u001b[43merrors\u001b[49m\u001b[43m=\u001b[49m\u001b[38;5;28;43mself\u001b[39;49m\u001b[43m.\u001b[49m\u001b[43moptions\u001b[49m\u001b[43m.\u001b[49m\u001b[43mget\u001b[49m\u001b[43m(\u001b[49m\u001b[33;43m\"\u001b[39;49m\u001b[33;43mencoding_errors\u001b[39;49m\u001b[33;43m\"\u001b[39;49m\u001b[43m,\u001b[49m\u001b[43m \u001b[49m\u001b[33;43m\"\u001b[39;49m\u001b[33;43mstrict\u001b[39;49m\u001b[33;43m\"\u001b[39;49m\u001b[43m)\u001b[49m\u001b[43m,\u001b[49m\n\u001b[32m   1888\u001b[39m \u001b[43m    \u001b[49m\u001b[43mstorage_options\u001b[49m\u001b[43m=\u001b[49m\u001b[38;5;28;43mself\u001b[39;49m\u001b[43m.\u001b[49m\u001b[43moptions\u001b[49m\u001b[43m.\u001b[49m\u001b[43mget\u001b[49m\u001b[43m(\u001b[49m\u001b[33;43m\"\u001b[39;49m\u001b[33;43mstorage_options\u001b[39;49m\u001b[33;43m\"\u001b[39;49m\u001b[43m,\u001b[49m\u001b[43m \u001b[49m\u001b[38;5;28;43;01mNone\u001b[39;49;00m\u001b[43m)\u001b[49m\u001b[43m,\u001b[49m\n\u001b[32m   1889\u001b[39m \u001b[43m\u001b[49m\u001b[43m)\u001b[49m\n\u001b[32m   1890\u001b[39m \u001b[38;5;28;01massert\u001b[39;00m \u001b[38;5;28mself\u001b[39m.handles \u001b[38;5;129;01mis\u001b[39;00m \u001b[38;5;129;01mnot\u001b[39;00m \u001b[38;5;28;01mNone\u001b[39;00m\n\u001b[32m   1891\u001b[39m f = \u001b[38;5;28mself\u001b[39m.handles.handle\n",
      "\u001b[36mFile \u001b[39m\u001b[32mc:\\Users\\Bhanu Sri V\\Bootcamp\\Bootcamp\\.venv\\Lib\\site-packages\\pandas\\io\\common.py:873\u001b[39m, in \u001b[36mget_handle\u001b[39m\u001b[34m(path_or_buf, mode, encoding, compression, memory_map, is_text, errors, storage_options)\u001b[39m\n\u001b[32m    868\u001b[39m \u001b[38;5;28;01melif\u001b[39;00m \u001b[38;5;28misinstance\u001b[39m(handle, \u001b[38;5;28mstr\u001b[39m):\n\u001b[32m    869\u001b[39m     \u001b[38;5;66;03m# Check whether the filename is to be opened in binary mode.\u001b[39;00m\n\u001b[32m    870\u001b[39m     \u001b[38;5;66;03m# Binary mode does not support 'encoding' and 'newline'.\u001b[39;00m\n\u001b[32m    871\u001b[39m     \u001b[38;5;28;01mif\u001b[39;00m ioargs.encoding \u001b[38;5;129;01mand\u001b[39;00m \u001b[33m\"\u001b[39m\u001b[33mb\u001b[39m\u001b[33m\"\u001b[39m \u001b[38;5;129;01mnot\u001b[39;00m \u001b[38;5;129;01min\u001b[39;00m ioargs.mode:\n\u001b[32m    872\u001b[39m         \u001b[38;5;66;03m# Encoding\u001b[39;00m\n\u001b[32m--> \u001b[39m\u001b[32m873\u001b[39m         handle = \u001b[38;5;28;43mopen\u001b[39;49m\u001b[43m(\u001b[49m\n\u001b[32m    874\u001b[39m \u001b[43m            \u001b[49m\u001b[43mhandle\u001b[49m\u001b[43m,\u001b[49m\n\u001b[32m    875\u001b[39m \u001b[43m            \u001b[49m\u001b[43mioargs\u001b[49m\u001b[43m.\u001b[49m\u001b[43mmode\u001b[49m\u001b[43m,\u001b[49m\n\u001b[32m    876\u001b[39m \u001b[43m            \u001b[49m\u001b[43mencoding\u001b[49m\u001b[43m=\u001b[49m\u001b[43mioargs\u001b[49m\u001b[43m.\u001b[49m\u001b[43mencoding\u001b[49m\u001b[43m,\u001b[49m\n\u001b[32m    877\u001b[39m \u001b[43m            \u001b[49m\u001b[43merrors\u001b[49m\u001b[43m=\u001b[49m\u001b[43merrors\u001b[49m\u001b[43m,\u001b[49m\n\u001b[32m    878\u001b[39m \u001b[43m            \u001b[49m\u001b[43mnewline\u001b[49m\u001b[43m=\u001b[49m\u001b[33;43m\"\u001b[39;49m\u001b[33;43m\"\u001b[39;49m\u001b[43m,\u001b[49m\n\u001b[32m    879\u001b[39m \u001b[43m        \u001b[49m\u001b[43m)\u001b[49m\n\u001b[32m    880\u001b[39m     \u001b[38;5;28;01melse\u001b[39;00m:\n\u001b[32m    881\u001b[39m         \u001b[38;5;66;03m# Binary mode\u001b[39;00m\n\u001b[32m    882\u001b[39m         handle = \u001b[38;5;28mopen\u001b[39m(handle, ioargs.mode)\n",
      "\u001b[31mFileNotFoundError\u001b[39m: [Errno 2] No such file or directory: 'C:\\\\Users\\\\Bhanu Sri V\\\\Bootcamp-1\\\\Pandas\\\\train.csv'"
     ]
    }
   ],
   "source": [
    "# Load the dataset into a pandas DataFrame using read_csv\n",
    "# pd.read_csv() reads a CSV file and loads it into a DataFrame for further analysis\n",
    "titanic_df = pd.read_csv(r'C:\\Users\\Bhanu Sri V\\Bootcamp-1\\Pandas\\train.csv')"
   ]
  },
  {
   "cell_type": "code",
   "execution_count": null,
   "id": "54fe8703",
   "metadata": {},
   "outputs": [
    {
     "name": "stdout",
     "output_type": "stream",
     "text": [
      "     PassengerId  Survived  Pclass  \\\n",
      "0              1         0       3   \n",
      "1              2         1       1   \n",
      "2              3         1       3   \n",
      "3              4         1       1   \n",
      "4              5         0       3   \n",
      "..           ...       ...     ...   \n",
      "886          887         0       2   \n",
      "887          888         1       1   \n",
      "888          889         0       3   \n",
      "889          890         1       1   \n",
      "890          891         0       3   \n",
      "\n",
      "                                                  Name     Sex   Age  SibSp  \\\n",
      "0                              Braund, Mr. Owen Harris    male  22.0      1   \n",
      "1    Cumings, Mrs. John Bradley (Florence Briggs Th...  female  38.0      1   \n",
      "2                               Heikkinen, Miss. Laina  female  26.0      0   \n",
      "3         Futrelle, Mrs. Jacques Heath (Lily May Peel)  female  35.0      1   \n",
      "4                             Allen, Mr. William Henry    male  35.0      0   \n",
      "..                                                 ...     ...   ...    ...   \n",
      "886                              Montvila, Rev. Juozas    male  27.0      0   \n",
      "887                       Graham, Miss. Margaret Edith  female  19.0      0   \n",
      "888           Johnston, Miss. Catherine Helen \"Carrie\"  female   NaN      1   \n",
      "889                              Behr, Mr. Karl Howell    male  26.0      0   \n",
      "890                                Dooley, Mr. Patrick    male  32.0      0   \n",
      "\n",
      "     Parch            Ticket     Fare Cabin Embarked  \n",
      "0        0         A/5 21171   7.2500   NaN        S  \n",
      "1        0          PC 17599  71.2833   C85        C  \n",
      "2        0  STON/O2. 3101282   7.9250   NaN        S  \n",
      "3        0            113803  53.1000  C123        S  \n",
      "4        0            373450   8.0500   NaN        S  \n",
      "..     ...               ...      ...   ...      ...  \n",
      "886      0            211536  13.0000   NaN        S  \n",
      "887      0            112053  30.0000   B42        S  \n",
      "888      2        W./C. 6607  23.4500   NaN        S  \n",
      "889      0            111369  30.0000  C148        C  \n",
      "890      0            370376   7.7500   NaN        Q  \n",
      "\n",
      "[891 rows x 12 columns]\n"
     ]
    }
   ],
   "source": [
    "# Display the entire DataFrame\n",
    "# print() displays the entire DataFrame so you can see all the data loaded\n",
    "print(titanic_df)"
   ]
  },
  {
   "cell_type": "markdown",
   "id": "b1473a3e",
   "metadata": {},
   "source": [
    "Identify which columns have missing values and how many"
   ]
  },
  {
   "cell_type": "code",
   "execution_count": null,
   "id": "7ea753c3",
   "metadata": {},
   "outputs": [
    {
     "name": "stdout",
     "output_type": "stream",
     "text": [
      "PassengerId      0\n",
      "Survived         0\n",
      "Pclass           0\n",
      "Name             0\n",
      "Sex              0\n",
      "Age            177\n",
      "SibSp            0\n",
      "Parch            0\n",
      "Ticket           0\n",
      "Fare             0\n",
      "Cabin          687\n",
      "Embarked         2\n",
      "dtype: int64\n"
     ]
    }
   ],
   "source": [
    "# Show the count of missing values in each column using isnull().sum()\n",
    "# isnull().sum() shows the count of missing (NaN) values in each column\n",
    "print(titanic_df.isnull().sum())"
   ]
  },
  {
   "cell_type": "markdown",
   "id": "92b2b2e8",
   "metadata": {},
   "source": [
    "Fill missing age values with the median age"
   ]
  },
  {
   "cell_type": "code",
   "execution_count": null,
   "id": "f2ac514f",
   "metadata": {},
   "outputs": [],
   "source": [
    "# Fill missing values in the 'Age' column with the median age\n",
    "# fillna() replaces missing values in the 'Age' column with the median age\n",
    "titanic_df['Age'] = titanic_df['Age'].fillna(titanic_df['Age'].median())"
   ]
  },
  {
   "cell_type": "markdown",
   "id": "8d9f60d0",
   "metadata": {},
   "source": [
    "Display the first 5 and last 5 rows\n",
    "\n"
   ]
  },
  {
   "cell_type": "code",
   "execution_count": null,
   "id": "e7d0fc66",
   "metadata": {},
   "outputs": [
    {
     "name": "stdout",
     "output_type": "stream",
     "text": [
      "First 5 rows:\n",
      "   PassengerId  Survived  Pclass                                                 Name     Sex   Age  SibSp  Parch            Ticket     Fare Cabin Embarked\n",
      "0            1         0       3                              Braund, Mr. Owen Harris    male  22.0      1      0         A/5 21171   7.2500   NaN        S\n",
      "1            2         1       1  Cumings, Mrs. John Bradley (Florence Briggs Thayer)  female  38.0      1      0          PC 17599  71.2833   C85        C\n",
      "2            3         1       3                               Heikkinen, Miss. Laina  female  26.0      0      0  STON/O2. 3101282   7.9250   NaN        S\n",
      "3            4         1       1         Futrelle, Mrs. Jacques Heath (Lily May Peel)  female  35.0      1      0            113803  53.1000  C123        S\n",
      "4            5         0       3                             Allen, Mr. William Henry    male  35.0      0      0            373450   8.0500   NaN        S\n"
     ]
    }
   ],
   "source": [
    "# Print the first 5 rows of the DataFrame using head()\n",
    "# head() returns the first 5 rows of the DataFrame for a quick preview\n",
    "print(\"First 5 rows:\")\n",
    "print(titanic_df.head().to_string())"
   ]
  },
  {
   "cell_type": "code",
   "execution_count": null,
   "id": "f695ea64",
   "metadata": {},
   "outputs": [
    {
     "name": "stdout",
     "output_type": "stream",
     "text": [
      "Last 5 rows:\n",
      "     PassengerId  Survived  Pclass                                      Name     Sex   Age  SibSp  Parch      Ticket   Fare Cabin Embarked\n",
      "886          887         0       2                     Montvila, Rev. Juozas    male  27.0      0      0      211536  13.00   NaN        S\n",
      "887          888         1       1              Graham, Miss. Margaret Edith  female  19.0      0      0      112053  30.00   B42        S\n",
      "888          889         0       3  Johnston, Miss. Catherine Helen \"Carrie\"  female  28.0      1      2  W./C. 6607  23.45   NaN        S\n",
      "889          890         1       1                     Behr, Mr. Karl Howell    male  26.0      0      0      111369  30.00  C148        C\n",
      "890          891         0       3                       Dooley, Mr. Patrick    male  32.0      0      0      370376   7.75   NaN        Q\n"
     ]
    }
   ],
   "source": [
    "# tail() returns the last 5 rows of the DataFrame for a quick preview\n",
    "print(\"Last 5 rows:\")\n",
    "print(titanic_df.tail().to_string())"
   ]
  },
  {
   "cell_type": "markdown",
   "id": "0141676c",
   "metadata": {},
   "source": [
    "Check the dimensions of the dataset (number of rows and columns)"
   ]
  },
  {
   "cell_type": "code",
   "execution_count": null,
   "id": "3cd42e93",
   "metadata": {},
   "outputs": [
    {
     "name": "stdout",
     "output_type": "stream",
     "text": [
      "Number of Rows and Columns:\n",
      "(891, 12)\n"
     ]
    }
   ],
   "source": [
    "# shape returns a tuple (rows, columns) representing the DataFrame's dimensions\n",
    "print(\"Number of Rows and Columns:\")\n",
    "print(titanic_df.shape)"
   ]
  },
  {
   "cell_type": "markdown",
   "id": "f75e58c7",
   "metadata": {},
   "source": [
    "Get the column names and data types"
   ]
  },
  {
   "cell_type": "code",
   "execution_count": null,
   "id": "61b42086",
   "metadata": {},
   "outputs": [
    {
     "name": "stdout",
     "output_type": "stream",
     "text": [
      "Column Names and Data Types:\n",
      "PassengerId      int64\n",
      "Survived         int64\n",
      "Pclass           int64\n",
      "Name            object\n",
      "Sex             object\n",
      "Age            float64\n",
      "SibSp            int64\n",
      "Parch            int64\n",
      "Ticket          object\n",
      "Fare           float64\n",
      "Cabin           object\n",
      "Embarked        object\n",
      "dtype: object\n"
     ]
    }
   ],
   "source": [
    "# dtypes shows the data type of each column in the DataFrame\n",
    "print(\"Column Names and Data Types:\")\n",
    "print(titanic_df.dtypes)"
   ]
  },
  {
   "cell_type": "markdown",
   "id": "b98dfa62",
   "metadata": {},
   "source": [
    "Generate descriptive statistics for numerical columns"
   ]
  },
  {
   "cell_type": "code",
   "execution_count": null,
   "id": "b1a86296",
   "metadata": {},
   "outputs": [
    {
     "name": "stdout",
     "output_type": "stream",
     "text": [
      "Description of Numeric Columns:\n",
      "       PassengerId    Survived      Pclass         Age       SibSp       Parch        Fare\n",
      "count   891.000000  891.000000  891.000000  891.000000  891.000000  891.000000  891.000000\n",
      "mean    446.000000    0.383838    2.308642   29.361582    0.523008    0.381594   32.204208\n",
      "std     257.353842    0.486592    0.836071   13.019697    1.102743    0.806057   49.693429\n",
      "min       1.000000    0.000000    1.000000    0.420000    0.000000    0.000000    0.000000\n",
      "25%     223.500000    0.000000    2.000000   22.000000    0.000000    0.000000    7.910400\n",
      "50%     446.000000    0.000000    3.000000   28.000000    0.000000    0.000000   14.454200\n",
      "75%     668.500000    1.000000    3.000000   35.000000    1.000000    0.000000   31.000000\n",
      "max     891.000000    1.000000    3.000000   80.000000    8.000000    6.000000  512.329200\n"
     ]
    }
   ],
   "source": [
    "# describe() generates descriptive statistics for numerical columns\n",
    "print(\"Description of Numeric Columns:\")\n",
    "print(titanic_df.describe().to_string())"
   ]
  },
  {
   "cell_type": "markdown",
   "id": "6442a787",
   "metadata": {},
   "source": [
    "What is the survival rate overall?"
   ]
  },
  {
   "cell_type": "code",
   "execution_count": null,
   "id": "2a81e0fe",
   "metadata": {},
   "outputs": [
    {
     "name": "stdout",
     "output_type": "stream",
     "text": [
      "Overall Survival Rate:\n",
      "38.38383838383838\n"
     ]
    }
   ],
   "source": [
    "# mean() calculates the average; here, it gives the overall survival rate as a percentage\n",
    "print(\"Overall Survival Rate:\")\n",
    "print(titanic_df['Survived'].mean()*100)"
   ]
  },
  {
   "cell_type": "markdown",
   "id": "d979edc5",
   "metadata": {},
   "source": [
    "How many passengers were in each class (Pclass)?"
   ]
  },
  {
   "cell_type": "code",
   "execution_count": null,
   "id": "49cf7647",
   "metadata": {},
   "outputs": [
    {
     "name": "stdout",
     "output_type": "stream",
     "text": [
      "Passengers in each class:\n",
      "Pclass\n",
      "1    216\n",
      "2    184\n",
      "3    491\n",
      "Name: count, dtype: int64\n"
     ]
    }
   ],
   "source": [
    "# value_counts() counts the number of occurrences of each class in 'Pclass'; sort_index() sorts by class\n",
    "print(\"Passengers in each class:\")\n",
    "print(titanic_df['Pclass'].value_counts().sort_index())"
   ]
  },
  {
   "cell_type": "markdown",
   "id": "bab95348",
   "metadata": {},
   "source": [
    "What is the distribution of genders onboard?"
   ]
  },
  {
   "cell_type": "code",
   "execution_count": null,
   "id": "0c4d2891",
   "metadata": {},
   "outputs": [
    {
     "name": "stdout",
     "output_type": "stream",
     "text": [
      "Gender Distribution:\n",
      "Sex\n",
      "male      577\n",
      "female    314\n",
      "Name: count, dtype: int64\n",
      "Percentage of Gender Distribution:\n",
      "Sex\n",
      "male      64.758698\n",
      "female    35.241302\n",
      "Name: proportion, dtype: float64\n"
     ]
    }
   ],
   "source": [
    "# value_counts() shows the count and percentage of each gender in the 'Sex' column\n",
    "print(\"Gender Distribution:\")\n",
    "print(titanic_df['Sex'].value_counts())\n",
    "print(\"Percentage of Gender Distribution:\")\n",
    "print(titanic_df['Sex'].value_counts(normalize=True) * 100)"
   ]
  },
  {
   "cell_type": "markdown",
   "id": "ca2d0b39",
   "metadata": {},
   "source": [
    "What are the minimum, maximum, and average ages of passengers?"
   ]
  },
  {
   "cell_type": "code",
   "execution_count": null,
   "id": "76e7fe1d",
   "metadata": {},
   "outputs": [
    {
     "name": "stdout",
     "output_type": "stream",
     "text": [
      "Minimum,Maximum and Average Ages of Passengers:\n",
      "Minimum Age: 0.42\n",
      "Maximum Age: 80.0\n",
      "Average Age: 29.36158249158249\n"
     ]
    }
   ],
   "source": [
    "# min(), max(), and mean() find the minimum, maximum, and average values in the 'Age' column\n",
    "print(\"Minimum,Maximum and Average Ages of Passengers:\")\n",
    "print(\"Minimum Age:\", titanic_df['Age'].min())\n",
    "print(\"Maximum Age:\", titanic_df['Age'].max())\n",
    "print(\"Average Age:\", titanic_df['Age'].mean())"
   ]
  },
  {
   "cell_type": "markdown",
   "id": "d07e1495",
   "metadata": {},
   "source": [
    "How many passengers embarked from each port (Embarked)?"
   ]
  },
  {
   "cell_type": "code",
   "execution_count": null,
   "id": "606517a4",
   "metadata": {},
   "outputs": [
    {
     "name": "stdout",
     "output_type": "stream",
     "text": [
      "Passengers Embarked from each port:\n",
      "Embarked\n",
      "S    644\n",
      "C    168\n",
      "Q     77\n",
      "Name: count, dtype: int64\n"
     ]
    }
   ],
   "source": [
    "# value_counts() counts the number of passengers from each embarkation port\n",
    "print(\"Passengers Embarked from each port:\")\n",
    "print(titanic_df['Embarked'].value_counts())"
   ]
  },
  {
   "cell_type": "markdown",
   "id": "e9c223e1",
   "metadata": {},
   "source": [
    "Select all female passengers"
   ]
  },
  {
   "cell_type": "code",
   "execution_count": null,
   "id": "fc1773d2",
   "metadata": {},
   "outputs": [
    {
     "name": "stdout",
     "output_type": "stream",
     "text": [
      "All Female Passengers:\n",
      "     PassengerId  Survived  Pclass  \\\n",
      "1              2         1       1   \n",
      "2              3         1       3   \n",
      "3              4         1       1   \n",
      "8              9         1       3   \n",
      "9             10         1       2   \n",
      "..           ...       ...     ...   \n",
      "880          881         1       2   \n",
      "882          883         0       3   \n",
      "885          886         0       3   \n",
      "887          888         1       1   \n",
      "888          889         0       3   \n",
      "\n",
      "                                                  Name     Sex   Age  SibSp  \\\n",
      "1    Cumings, Mrs. John Bradley (Florence Briggs Th...  female  38.0      1   \n",
      "2                               Heikkinen, Miss. Laina  female  26.0      0   \n",
      "3         Futrelle, Mrs. Jacques Heath (Lily May Peel)  female  35.0      1   \n",
      "8    Johnson, Mrs. Oscar W (Elisabeth Vilhelmina Berg)  female  27.0      0   \n",
      "9                  Nasser, Mrs. Nicholas (Adele Achem)  female  14.0      1   \n",
      "..                                                 ...     ...   ...    ...   \n",
      "880       Shelley, Mrs. William (Imanita Parrish Hall)  female  25.0      0   \n",
      "882                       Dahlberg, Miss. Gerda Ulrika  female  22.0      0   \n",
      "885               Rice, Mrs. William (Margaret Norton)  female  39.0      0   \n",
      "887                       Graham, Miss. Margaret Edith  female  19.0      0   \n",
      "888           Johnston, Miss. Catherine Helen \"Carrie\"  female  28.0      1   \n",
      "\n",
      "     Parch            Ticket     Fare Cabin Embarked  \n",
      "1        0          PC 17599  71.2833   C85        C  \n",
      "2        0  STON/O2. 3101282   7.9250   NaN        S  \n",
      "3        0            113803  53.1000  C123        S  \n",
      "8        2            347742  11.1333   NaN        S  \n",
      "9        0            237736  30.0708   NaN        C  \n",
      "..     ...               ...      ...   ...      ...  \n",
      "880      1            230433  26.0000   NaN        S  \n",
      "882      0              7552  10.5167   NaN        S  \n",
      "885      5            382652  29.1250   NaN        Q  \n",
      "887      0            112053  30.0000   B42        S  \n",
      "888      2        W./C. 6607  23.4500   NaN        S  \n",
      "\n",
      "[314 rows x 12 columns]\n"
     ]
    }
   ],
   "source": [
    "# Boolean indexing selects all rows where the 'Sex' column is 'female'\n",
    "print(\"All Female Passengers:\")\n",
    "print(titanic_df[titanic_df['Sex']=='female'])"
   ]
  },
  {
   "cell_type": "markdown",
   "id": "7f44579d",
   "metadata": {},
   "source": [
    "Find all passengers who survived and were in first class"
   ]
  },
  {
   "cell_type": "code",
   "execution_count": null,
   "id": "5e83b06d",
   "metadata": {},
   "outputs": [
    {
     "name": "stdout",
     "output_type": "stream",
     "text": [
      "All Passengers who survived and were in first class:\n",
      "     PassengerId  Survived  Pclass  \\\n",
      "1              2         1       1   \n",
      "3              4         1       1   \n",
      "11            12         1       1   \n",
      "23            24         1       1   \n",
      "31            32         1       1   \n",
      "..           ...       ...     ...   \n",
      "862          863         1       1   \n",
      "871          872         1       1   \n",
      "879          880         1       1   \n",
      "887          888         1       1   \n",
      "889          890         1       1   \n",
      "\n",
      "                                                  Name     Sex   Age  SibSp  \\\n",
      "1    Cumings, Mrs. John Bradley (Florence Briggs Th...  female  38.0      1   \n",
      "3         Futrelle, Mrs. Jacques Heath (Lily May Peel)  female  35.0      1   \n",
      "11                            Bonnell, Miss. Elizabeth  female  58.0      0   \n",
      "23                        Sloper, Mr. William Thompson    male  28.0      0   \n",
      "31      Spencer, Mrs. William Augustus (Marie Eugenie)  female  28.0      1   \n",
      "..                                                 ...     ...   ...    ...   \n",
      "862  Swift, Mrs. Frederick Joel (Margaret Welles Ba...  female  48.0      0   \n",
      "871   Beckwith, Mrs. Richard Leonard (Sallie Monypeny)  female  47.0      1   \n",
      "879      Potter, Mrs. Thomas Jr (Lily Alexenia Wilson)  female  56.0      0   \n",
      "887                       Graham, Miss. Margaret Edith  female  19.0      0   \n",
      "889                              Behr, Mr. Karl Howell    male  26.0      0   \n",
      "\n",
      "     Parch    Ticket      Fare Cabin Embarked  \n",
      "1        0  PC 17599   71.2833   C85        C  \n",
      "3        0    113803   53.1000  C123        S  \n",
      "11       0    113783   26.5500  C103        S  \n",
      "23       0    113788   35.5000    A6        S  \n",
      "31       0  PC 17569  146.5208   B78        C  \n",
      "..     ...       ...       ...   ...      ...  \n",
      "862      0     17466   25.9292   D17        S  \n",
      "871      1     11751   52.5542   D35        S  \n",
      "879      1     11767   83.1583   C50        C  \n",
      "887      0    112053   30.0000   B42        S  \n",
      "889      0    111369   30.0000  C148        C  \n",
      "\n",
      "[136 rows x 12 columns]\n"
     ]
    }
   ],
   "source": [
    "# Boolean indexing with multiple conditions to select survivors in first class\n",
    "print(\"All Passengers who survived and were in first class:\")\n",
    "print(titanic_df[(titanic_df['Survived'] == 1) & (titanic_df['Pclass'] == 1)])"
   ]
  },
  {
   "cell_type": "markdown",
   "id": "3ea79280",
   "metadata": {},
   "source": [
    "Find passengers aged between 20 and 30 years"
   ]
  },
  {
   "cell_type": "code",
   "execution_count": null,
   "id": "67f3ff65",
   "metadata": {},
   "outputs": [
    {
     "name": "stdout",
     "output_type": "stream",
     "text": [
      "Passengers aged between 20 and 30:\n",
      "     PassengerId  Survived  Pclass  \\\n",
      "0              1         0       3   \n",
      "2              3         1       3   \n",
      "5              6         0       3   \n",
      "8              9         1       3   \n",
      "12            13         0       3   \n",
      "..           ...       ...     ...   \n",
      "883          884         0       2   \n",
      "884          885         0       3   \n",
      "886          887         0       2   \n",
      "888          889         0       3   \n",
      "889          890         1       1   \n",
      "\n",
      "                                                  Name     Sex   Age  SibSp  \\\n",
      "0                              Braund, Mr. Owen Harris    male  22.0      1   \n",
      "2                               Heikkinen, Miss. Laina  female  26.0      0   \n",
      "5                                     Moran, Mr. James    male  28.0      0   \n",
      "8    Johnson, Mrs. Oscar W (Elisabeth Vilhelmina Berg)  female  27.0      0   \n",
      "12                      Saundercock, Mr. William Henry    male  20.0      0   \n",
      "..                                                 ...     ...   ...    ...   \n",
      "883                      Banfield, Mr. Frederick James    male  28.0      0   \n",
      "884                             Sutehall, Mr. Henry Jr    male  25.0      0   \n",
      "886                              Montvila, Rev. Juozas    male  27.0      0   \n",
      "888           Johnston, Miss. Catherine Helen \"Carrie\"  female  28.0      1   \n",
      "889                              Behr, Mr. Karl Howell    male  26.0      0   \n",
      "\n",
      "     Parch            Ticket     Fare Cabin Embarked  \n",
      "0        0         A/5 21171   7.2500   NaN        S  \n",
      "2        0  STON/O2. 3101282   7.9250   NaN        S  \n",
      "5        0            330877   8.4583   NaN        Q  \n",
      "8        2            347742  11.1333   NaN        S  \n",
      "12       0         A/5. 2151   8.0500   NaN        S  \n",
      "..     ...               ...      ...   ...      ...  \n",
      "883      0  C.A./SOTON 34068  10.5000   NaN        S  \n",
      "884      0   SOTON/OQ 392076   7.0500   NaN        S  \n",
      "886      0            211536  13.0000   NaN        S  \n",
      "888      2        W./C. 6607  23.4500   NaN        S  \n",
      "889      0            111369  30.0000  C148        C  \n",
      "\n",
      "[422 rows x 12 columns]\n"
     ]
    }
   ],
   "source": [
    "# Boolean indexing to select passengers aged between 20 and 30\n",
    "print(\"Passengers aged between 20 and 30:\")\n",
    "print(titanic_df[(titanic_df['Age'] >= 20) & (titanic_df['Age'] <= 30)])"
   ]
  },
  {
   "cell_type": "markdown",
   "id": "0f399d28",
   "metadata": {},
   "source": [
    "Select only the Name, Age, and Survived columns for passengers over 60"
   ]
  },
  {
   "cell_type": "code",
   "execution_count": null,
   "id": "719a2858",
   "metadata": {},
   "outputs": [
    {
     "name": "stdout",
     "output_type": "stream",
     "text": [
      "Name, Age and Survived columns of passengers over 60:\n",
      "                                                 Name   Age  Survived\n",
      "33                              Wheadon, Mr. Edward H  66.0         0\n",
      "54                     Ostby, Mr. Engelhart Cornelius  65.0         0\n",
      "96                          Goldschmidt, Mr. George B  71.0         0\n",
      "116                              Connors, Mr. Patrick  70.5         0\n",
      "170                         Van der hoef, Mr. Wyckoff  61.0         0\n",
      "252                         Stead, Mr. William Thomas  62.0         0\n",
      "275                 Andrews, Miss. Kornelia Theodosia  63.0         1\n",
      "280                                  Duane, Mr. Frank  65.0         0\n",
      "326                         Nysveen, Mr. Johan Hansen  61.0         0\n",
      "366  Warren, Mrs. Frank Manley (Anna Sophia Atkinson)  60.0         1\n",
      "438                                 Fortune, Mr. Mark  64.0         0\n",
      "456                         Millet, Mr. Francis Davis  65.0         0\n",
      "483                            Turkula, Mrs. (Hedwig)  63.0         1\n",
      "493                           Artagaveytia, Mr. Ramon  71.0         0\n",
      "545                      Nicholson, Mr. Arthur Ernest  64.0         0\n",
      "555                                Wright, Mr. George  62.0         0\n",
      "570                                Harris, Mr. George  62.0         1\n",
      "587                  Frolicher-Stehli, Mr. Maxmillian  60.0         1\n",
      "625                             Sutton, Mr. Frederick  61.0         0\n",
      "630              Barkworth, Mr. Algernon Henry Wilson  80.0         1\n",
      "672                       Mitchell, Mr. Henry Michael  70.0         0\n",
      "684                 Brown, Mr. Thomas William Solomon  60.0         0\n",
      "694                                   Weir, Col. John  60.0         0\n",
      "745                      Crosby, Capt. Edward Gifford  70.0         0\n",
      "829         Stone, Mrs. George Nelson (Martha Evelyn)  62.0         1\n",
      "851                               Svensson, Mr. Johan  74.0         0\n"
     ]
    }
   ],
   "source": [
    "# Selects only the Name, Age, and Survived columns for passengers over 60\n",
    "print(\"Name, Age and Survived columns of passengers over 60:\")\n",
    "print(titanic_df[titanic_df['Age']>=60][['Name', 'Age','Survived']])  "
   ]
  },
  {
   "cell_type": "markdown",
   "id": "69b62c69",
   "metadata": {},
   "source": [
    "Create a new column 'FamilySize' by combining SibSp and Parch"
   ]
  },
  {
   "cell_type": "code",
   "execution_count": null,
   "id": "14f7e8be",
   "metadata": {},
   "outputs": [
    {
     "name": "stdout",
     "output_type": "stream",
     "text": [
      "New column 'FamilySize':\n",
      "                                                  Name  FamilySize\n",
      "0                              Braund, Mr. Owen Harris           2\n",
      "1    Cumings, Mrs. John Bradley (Florence Briggs Th...           2\n",
      "2                               Heikkinen, Miss. Laina           1\n",
      "3         Futrelle, Mrs. Jacques Heath (Lily May Peel)           2\n",
      "4                             Allen, Mr. William Henry           1\n",
      "..                                                 ...         ...\n",
      "886                              Montvila, Rev. Juozas           1\n",
      "887                       Graham, Miss. Margaret Edith           1\n",
      "888           Johnston, Miss. Catherine Helen \"Carrie\"           4\n",
      "889                              Behr, Mr. Karl Howell           1\n",
      "890                                Dooley, Mr. Patrick           1\n",
      "\n",
      "[891 rows x 2 columns]\n"
     ]
    }
   ],
   "source": [
    "# Create a new column 'FamilySize' by summing SibSp and Parch, then adding 1 (the passenger)\n",
    "print(\"New column 'FamilySize':\")\n",
    "titanic_df['FamilySize'] = titanic_df['SibSp'] + titanic_df['Parch'] + 1\n",
    "print(titanic_df[['Name', 'FamilySize']])"
   ]
  },
  {
   "cell_type": "markdown",
   "id": "be653625",
   "metadata": {},
   "source": [
    "Create a categorical column 'AgeGroup' (child, adult, senior)"
   ]
  },
  {
   "cell_type": "code",
   "execution_count": null,
   "id": "f792939c",
   "metadata": {},
   "outputs": [
    {
     "name": "stdout",
     "output_type": "stream",
     "text": [
      "Age Group Column:\n",
      "0      Adult\n",
      "1      Adult\n",
      "2      Adult\n",
      "3      Adult\n",
      "4      Adult\n",
      "       ...  \n",
      "886    Adult\n",
      "887    Adult\n",
      "888    Adult\n",
      "889    Adult\n",
      "890    Adult\n",
      "Name: AgeGroup, Length: 891, dtype: object\n"
     ]
    }
   ],
   "source": [
    "# Define a function to categorize age and create a new 'AgeGroup' column\n",
    "print(\"Age Group Column:\")\n",
    "def age_group(age):\n",
    "    if age < 18:\n",
    "        return 'Child'\n",
    "    elif age < 60:\n",
    "        return 'Adult'\n",
    "    else:\n",
    "        return 'Senior'\n",
    "titanic_df['AgeGroup'] = titanic_df['Age'].apply(age_group)\n",
    "print(titanic_df['AgeGroup'])\n",
    "\n"
   ]
  },
  {
   "cell_type": "markdown",
   "id": "c60c8eb1",
   "metadata": {},
   "source": [
    "Convert the Sex column to numeric (1 for male, 0 for female)"
   ]
  },
  {
   "cell_type": "code",
   "execution_count": null,
   "id": "c0b37996",
   "metadata": {},
   "outputs": [
    {
     "name": "stdout",
     "output_type": "stream",
     "text": [
      "Sex Column to Numeric:\n",
      "0      1\n",
      "1      0\n",
      "2      0\n",
      "3      0\n",
      "4      1\n",
      "      ..\n",
      "886    1\n",
      "887    0\n",
      "888    0\n",
      "889    1\n",
      "890    1\n",
      "Name: Sex, Length: 891, dtype: int64\n",
      "Sex\n",
      "1    577\n",
      "0    314\n",
      "Name: count, dtype: int64\n"
     ]
    }
   ],
   "source": [
    "# map() converts the 'Sex' column to numeric: 1 for male, 0 for female\n",
    "print(\"Sex Column to Numeric:\")\n",
    "titanic_df['Sex'] = titanic_df['Sex'].map({'male': 1, 'female': 0})\n",
    "print(titanic_df['Sex'])\n",
    "print(titanic_df['Sex'].value_counts())\n"
   ]
  },
  {
   "cell_type": "markdown",
   "id": "28496ef8",
   "metadata": {},
   "source": [
    "Extract titles from names (Mr, Mrs, Miss, etc.) into a new column"
   ]
  },
  {
   "cell_type": "code",
   "execution_count": null,
   "id": "ab09b9dd",
   "metadata": {},
   "outputs": [
    {
     "name": "stdout",
     "output_type": "stream",
     "text": [
      "Extracting Titles from Names:\n",
      "0         Mr\n",
      "1        Mrs\n",
      "2       Miss\n",
      "3        Mrs\n",
      "4         Mr\n",
      "       ...  \n",
      "886      Rev\n",
      "887     Miss\n",
      "888     Miss\n",
      "889       Mr\n",
      "890       Mr\n",
      "Name: Title, Length: 891, dtype: object\n"
     ]
    }
   ],
   "source": [
    "# Extract titles from names using a custom function and create a new 'Title' column\n",
    "print(\"Extracting Titles from Names:\")\n",
    "def extract_title(name):\n",
    "    title = name.split(',')[1].split('.')[0]\n",
    "    return title\n",
    "titanic_df['Title'] = titanic_df['Name'].apply(extract_title)\n",
    "print(titanic_df['Title'])"
   ]
  },
  {
   "cell_type": "markdown",
   "id": "c0be57e4",
   "metadata": {},
   "source": [
    "Calculate survival rates by passenger class"
   ]
  },
  {
   "cell_type": "code",
   "execution_count": null,
   "id": "cb241bcf",
   "metadata": {},
   "outputs": [
    {
     "name": "stdout",
     "output_type": "stream",
     "text": [
      "Survival Rate by Passenger Class:\n",
      "Pclass\n",
      "1    62.962963\n",
      "2    47.282609\n",
      "3    24.236253\n",
      "Name: Survived, dtype: float64\n"
     ]
    }
   ],
   "source": [
    "# groupby() groups data by 'Pclass' and calculates the mean survival rate for each class\n",
    "print(\"Survival Rate by Passenger Class:\")\n",
    "survival_rate_by_class = titanic_df.groupby('Pclass')['Survived'].mean()*100\n",
    "print(survival_rate_by_class)"
   ]
  },
  {
   "cell_type": "markdown",
   "id": "05c1848d",
   "metadata": {},
   "source": [
    "Find average age by passenger class and gender"
   ]
  },
  {
   "cell_type": "code",
   "execution_count": null,
   "id": "aae16977",
   "metadata": {},
   "outputs": [
    {
     "name": "stdout",
     "output_type": "stream",
     "text": [
      "Average age by passenger class and gender:\n",
      "Pclass  Sex\n",
      "1       0      33.978723\n",
      "        1      38.995246\n",
      "2       0      28.703947\n",
      "        1      30.512315\n",
      "3       0      23.572917\n",
      "        1      26.911873\n",
      "Name: Age, dtype: float64\n"
     ]
    }
   ],
   "source": [
    "# groupby() groups by 'Pclass' and 'Sex', then mean() calculates the average age for each group\n",
    "print(\"Average age by passenger class and gender:\")\n",
    "average_age_by_class_gender = titanic_df.groupby(['Pclass','Sex'])['Age'].mean()\n",
    "print(average_age_by_class_gender)"
   ]
  },
  {
   "cell_type": "markdown",
   "id": "30b611c7",
   "metadata": {},
   "source": [
    "What was the survival rate by embarkation port?"
   ]
  },
  {
   "cell_type": "code",
   "execution_count": null,
   "id": "23be1585",
   "metadata": {},
   "outputs": [
    {
     "name": "stdout",
     "output_type": "stream",
     "text": [
      "Survival Rate by Embarked Port:\n",
      "Embarked\n",
      "C    55.357143\n",
      "Q    38.961039\n",
      "S    33.695652\n",
      "Name: Survived, dtype: float64\n"
     ]
    }
   ],
   "source": [
    "# groupby() groups by 'Embarked' and calculates the mean survival rate for each port\n",
    "print(\"Survival Rate by Embarked Port:\")\n",
    "survival_rate_by_embarked = titanic_df.groupby('Embarked')['Survived'].mean()*100 \n",
    "print(survival_rate_by_embarked)"
   ]
  },
  {
   "cell_type": "markdown",
   "id": "7f6d9589",
   "metadata": {},
   "source": [
    "Calculate family size distribution among survivors vs non-survivors"
   ]
  },
  {
   "cell_type": "code",
   "execution_count": null,
   "id": "ef707267",
   "metadata": {},
   "outputs": [
    {
     "name": "stdout",
     "output_type": "stream",
     "text": [
      "Family Size distribution among survivors and non-survivors:\n",
      "\n",
      "FamilySize     1     2     3     4     5     6    7    8    11\n",
      "Survived                                                      \n",
      "0           374.0  72.0  43.0   8.0  12.0  19.0  8.0  6.0  7.0\n",
      "1           163.0  89.0  59.0  21.0   3.0   3.0  4.0  NaN  NaN\n"
     ]
    }
   ],
   "source": [
    "# groupby() and value_counts() to analyze family size distribution among survivors and non-survivors\n",
    "print(\"Family Size distribution among survivors and non-survivors:\\n\")\n",
    "family_size_distribution = titanic_df.groupby( 'Survived')['FamilySize'].value_counts().unstack()\n",
    "print(family_size_distribution)"
   ]
  },
  {
   "cell_type": "markdown",
   "id": "8e7807a5",
   "metadata": {},
   "source": [
    "Analyze survival rates by both class and gender"
   ]
  },
  {
   "cell_type": "code",
   "execution_count": null,
   "id": "1d6b7004",
   "metadata": {},
   "outputs": [
    {
     "name": "stdout",
     "output_type": "stream",
     "text": [
      "Survival Rate by Class and Gender:\n",
      "Sex            0         1\n",
      "Pclass                    \n",
      "1       0.968085  0.368852\n",
      "2       0.921053  0.157407\n",
      "3       0.500000  0.135447\n"
     ]
    }
   ],
   "source": [
    "# groupby() and mean() with unstack() to analyze survival rates by class and gender\n",
    "print(\"Survival Rate by Class and Gender:\")\n",
    "survival_rate_by_class_gender = titanic_df.groupby(['Pclass','Sex'])['Survived'].mean().unstack()\n",
    "print(survival_rate_by_class_gender)"
   ]
  },
  {
   "cell_type": "markdown",
   "id": "7589d735",
   "metadata": {},
   "source": [
    "Examine how age groups affected survival in different classes"
   ]
  },
  {
   "cell_type": "code",
   "execution_count": null,
   "id": "910b7518",
   "metadata": {},
   "outputs": [
    {
     "name": "stdout",
     "output_type": "stream",
     "text": [
      "Survival Rate by Class and Gender:\n",
      "AgeGroup     Adult     Child    Senior\n",
      "Pclass                                \n",
      "1         0.641711  0.916667  0.294118\n",
      "2         0.414013  0.913043  0.250000\n",
      "3         0.218137  0.371795  0.200000\n"
     ]
    }
   ],
   "source": [
    "# groupby() and mean() with unstack() to analyze survival rates by class and age group\n",
    "print(\"Survival Rate by Class and Gender:\")\n",
    "survival_rate_by_class_age_group = titanic_df.groupby(['Pclass','AgeGroup'])['Survived'].mean().unstack()\n",
    "print(survival_rate_by_class_age_group)"
   ]
  },
  {
   "cell_type": "markdown",
   "id": "52c5846c",
   "metadata": {},
   "source": [
    "Explore how family size impacted survival rates"
   ]
  },
  {
   "cell_type": "code",
   "execution_count": null,
   "id": "3bfda958",
   "metadata": {},
   "outputs": [
    {
     "name": "stdout",
     "output_type": "stream",
     "text": [
      "Survival by Family Size:\n",
      "FamilySize\n",
      "1     0.303538\n",
      "2     0.552795\n",
      "3     0.578431\n",
      "4     0.724138\n",
      "5     0.200000\n",
      "6     0.136364\n",
      "7     0.333333\n",
      "8     0.000000\n",
      "11    0.000000\n",
      "Name: Survived, dtype: float64\n"
     ]
    }
   ],
   "source": [
    "# groupby() and mean() to analyze survival by family size\n",
    "print(\"Survival by Family Size:\")\n",
    "survival_rate_by_family_size = titanic_df.groupby('FamilySize')['Survived'].mean()\n",
    "print(survival_rate_by_family_size)"
   ]
  },
  {
   "cell_type": "markdown",
   "id": "2a3336e9",
   "metadata": {},
   "source": [
    "Use pivot tables to analyze survival rates across multiple dimensions\n"
   ]
  },
  {
   "cell_type": "code",
   "execution_count": null,
   "id": "0192359c",
   "metadata": {},
   "outputs": [
    {
     "name": "stdout",
     "output_type": "stream",
     "text": [
      "Pivot Table of Survival by Class, Sex and AgeGroup:\n",
      "Sex                     0         1\n",
      "Pclass AgeGroup                    \n",
      "1      Adult     0.975904  0.375000\n",
      "       Child     0.875000  1.000000\n",
      "       Senior    1.000000  0.142857\n",
      "2      Adult     0.906250  0.075269\n",
      "       Child     1.000000  0.818182\n",
      "       Senior         NaN  0.250000\n",
      "3      Adult     0.481481  0.123333\n",
      "       Child     0.542857  0.232558\n",
      "       Senior    1.000000  0.000000\n"
     ]
    }
   ],
   "source": [
    "# pivot_table() summarizes survival rates by class, age group, and sex using mean as aggregation\n",
    "pivot_table = titanic_df.pivot_table(index=['Pclass','AgeGroup'],columns='Sex',values='Survived',aggfunc='mean')\n",
    "print(\"Pivot Table of Survival by Class, Sex and AgeGroup:\")\n",
    "print(pivot_table)"
   ]
  },
  {
   "cell_type": "code",
   "execution_count": null,
   "id": "7fa29eb0",
   "metadata": {},
   "outputs": [
    {
     "name": "stdout",
     "output_type": "stream",
     "text": [
      "Pivot Table of Average Age by Class and Survival:\n",
      "AgeGroup     Adult     Child    Senior\n",
      "Pclass                                \n",
      "1         0.641711  0.916667  0.294118\n",
      "2         0.414013  0.913043  0.250000\n",
      "3         0.218137  0.371795  0.200000\n"
     ]
    }
   ],
   "source": [
    "# Create a pivot table to show survival rates by passenger class and age group\n",
    "# index='Pclass' sets the rows as passenger class\n",
    "# columns='AgeGroup' sets the columns as age group (Child, Adult, Senior)\n",
    "# values='Survived' uses the 'Survived' column to calculate the mean survival rate\n",
    "# aggfunc='mean' calculates the average survival rate for each group\n",
    "pivot_table = titanic_df.pivot_table(index='Pclass', columns='AgeGroup', values='Survived', aggfunc='mean')\n",
    "print(\"Pivot Table of Average Survival Rate by Class and Age Group:\")\n",
    "print(pivot_table)"
   ]
  },
  {
   "cell_type": "code",
   "execution_count": null,
   "id": "e92e7ee7",
   "metadata": {},
   "outputs": [],
   "source": []
  },
  {
   "cell_type": "code",
   "execution_count": null,
   "id": "424fbea5",
   "metadata": {},
   "outputs": [],
   "source": []
  },
  {
   "cell_type": "code",
   "execution_count": null,
   "id": "68a06186",
   "metadata": {},
   "outputs": [],
   "source": []
  },
  {
   "cell_type": "code",
   "execution_count": null,
   "id": "8f8ab984",
   "metadata": {},
   "outputs": [],
   "source": []
  },
  {
   "cell_type": "code",
   "execution_count": null,
   "id": "a82d464f",
   "metadata": {},
   "outputs": [],
   "source": []
  },
  {
   "cell_type": "code",
   "execution_count": null,
   "id": "f4a010dc",
   "metadata": {},
   "outputs": [],
   "source": []
  },
  {
   "cell_type": "code",
   "execution_count": null,
   "id": "f58ef97e",
   "metadata": {},
   "outputs": [],
   "source": []
  },
  {
   "cell_type": "code",
   "execution_count": null,
   "id": "c790c8fb",
   "metadata": {},
   "outputs": [],
   "source": []
  },
  {
   "cell_type": "code",
   "execution_count": null,
   "id": "a7552e66",
   "metadata": {},
   "outputs": [],
   "source": []
  },
  {
   "cell_type": "code",
   "execution_count": null,
   "id": "7a7b476d",
   "metadata": {},
   "outputs": [],
   "source": []
  },
  {
   "cell_type": "code",
   "execution_count": null,
   "id": "378194ba",
   "metadata": {},
   "outputs": [],
   "source": []
  },
  {
   "cell_type": "code",
   "execution_count": null,
   "id": "c73cefc2",
   "metadata": {},
   "outputs": [],
   "source": []
  },
  {
   "cell_type": "code",
   "execution_count": null,
   "id": "7333458f",
   "metadata": {},
   "outputs": [],
   "source": []
  },
  {
   "cell_type": "code",
   "execution_count": null,
   "id": "06f0c344",
   "metadata": {},
   "outputs": [],
   "source": []
  },
  {
   "cell_type": "code",
   "execution_count": null,
   "id": "fc99384e",
   "metadata": {},
   "outputs": [],
   "source": []
  }
 ],
 "metadata": {
  "kernelspec": {
   "display_name": ".venv",
   "language": "python",
   "name": "python3"
  },
  "language_info": {
   "codemirror_mode": {
    "name": "ipython",
    "version": 3
   },
   "file_extension": ".py",
   "mimetype": "text/x-python",
   "name": "python",
   "nbconvert_exporter": "python",
   "pygments_lexer": "ipython3",
   "version": "3.13.3"
  }
 },
 "nbformat": 4,
 "nbformat_minor": 5
}
